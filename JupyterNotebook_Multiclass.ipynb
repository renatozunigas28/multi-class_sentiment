{
 "cells": [
  {
   "cell_type": "markdown",
   "id": "35eedbec",
   "metadata": {},
   "source": [
    "# MULTI-CLASS SENTIMENT ANALYSIS USING ATTENTION MODELS TO CLASSIFY SOCIAL MEDIA COMMENTS\n",
    "---"
   ]
  },
  {
   "cell_type": "markdown",
   "id": "3cd83391",
   "metadata": {},
   "source": [
    "## MSc Data Analytics for Business by Zuñiga Santillan, Jose Renato\n",
    "---"
   ]
  },
  {
   "cell_type": "markdown",
   "id": "83cc7ee9",
   "metadata": {},
   "source": [
    "### Code to run when Kernel crashes\n",
    "---"
   ]
  },
  {
   "cell_type": "markdown",
   "id": "bf72d154",
   "metadata": {},
   "source": [
    "Based on experience, something the kernel crashes when trying to train the model. If so, run the following lines of code until the EDA"
   ]
  },
  {
   "cell_type": "code",
   "execution_count": null,
   "id": "379ee9c9",
   "metadata": {},
   "outputs": [],
   "source": [
    "conda install pytorch torchvision -c pytorch"
   ]
  },
  {
   "cell_type": "code",
   "execution_count": null,
   "id": "6c37e299",
   "metadata": {},
   "outputs": [],
   "source": [
    "!pip3 install torch torchvision"
   ]
  },
  {
   "cell_type": "code",
   "execution_count": null,
   "id": "fda57608",
   "metadata": {},
   "outputs": [],
   "source": [
    "!pip install torchvision"
   ]
  },
  {
   "cell_type": "code",
   "execution_count": null,
   "id": "ffad5b2d",
   "metadata": {},
   "outputs": [],
   "source": [
    "conda update -n base -c defaults conda"
   ]
  },
  {
   "cell_type": "code",
   "execution_count": null,
   "id": "fae6b6c4",
   "metadata": {},
   "outputs": [],
   "source": [
    "!pip install tensorflow"
   ]
  },
  {
   "cell_type": "code",
   "execution_count": 1,
   "id": "f8808cb2",
   "metadata": {},
   "outputs": [],
   "source": [
    "import os    \n",
    "os.environ['KMP_DUPLICATE_LIB_OK'] = 'True'"
   ]
  },
  {
   "cell_type": "markdown",
   "id": "c4c183f7",
   "metadata": {},
   "source": [
    "If everything is ok, this code will assess if torch is correctly installed"
   ]
  },
  {
   "cell_type": "code",
   "execution_count": 2,
   "id": "f82cf6df",
   "metadata": {},
   "outputs": [
    {
     "name": "stdout",
     "output_type": "stream",
     "text": [
      "Collecting package metadata (current_repodata.json): done\n",
      "Solving environment: done\n",
      "\n",
      "\n",
      "==> WARNING: A newer version of conda exists. <==\n",
      "  current version: 22.9.0\n",
      "  latest version: 24.1.0\n",
      "\n",
      "Please update conda by running\n",
      "\n",
      "    $ conda update -n base -c defaults conda\n",
      "\n",
      "\n",
      "\n",
      "# All requested packages already installed.\n",
      "\n",
      "Retrieving notices: ...working... done\n",
      "\n",
      "Note: you may need to restart the kernel to use updated packages.\n"
     ]
    }
   ],
   "source": [
    "import torch\n",
    "x = torch.rand(5, 3)\n",
    "print(x)"
   ]
  },
  {
   "cell_type": "markdown",
   "id": "1b3ac9b4",
   "metadata": {},
   "source": [
    "## Exploratory Data Analysis (EDA)\n",
    "---"
   ]
  },
  {
   "cell_type": "markdown",
   "id": "bdea9ebe",
   "metadata": {},
   "source": [
    "### EDA on first dataset\n",
    "---"
   ]
  },
  {
   "cell_type": "markdown",
   "id": "04bf88a2",
   "metadata": {},
   "source": [
    "Note: All the files are saved locally"
   ]
  },
  {
   "cell_type": "code",
   "execution_count": 258,
   "id": "4450e435",
   "metadata": {},
   "outputs": [],
   "source": [
    "from mpl_toolkits.mplot3d import Axes3D\n",
    "from sklearn.preprocessing import StandardScaler\n",
    "import matplotlib.pyplot as plt # plotting\n",
    "from wordcloud import WordCloud, STOPWORDS\n",
    "from collections import defaultdict\n",
    "import numpy as np \n",
    "import os \n",
    "import pandas as pd \n",
    "import seaborn as sns\n",
    "import warnings\n",
    "warnings.filterwarnings('ignore')"
   ]
  },
  {
   "cell_type": "code",
   "execution_count": 259,
   "id": "d675edc3",
   "metadata": {},
   "outputs": [
    {
     "data": {
      "text/html": [
       "<div>\n",
       "<style scoped>\n",
       "    .dataframe tbody tr th:only-of-type {\n",
       "        vertical-align: middle;\n",
       "    }\n",
       "\n",
       "    .dataframe tbody tr th {\n",
       "        vertical-align: top;\n",
       "    }\n",
       "\n",
       "    .dataframe thead th {\n",
       "        text-align: right;\n",
       "    }\n",
       "</style>\n",
       "<table border=\"1\" class=\"dataframe\">\n",
       "  <thead>\n",
       "    <tr style=\"text-align: right;\">\n",
       "      <th></th>\n",
       "      <th>tweet_id</th>\n",
       "      <th>sentiment</th>\n",
       "      <th>content</th>\n",
       "    </tr>\n",
       "  </thead>\n",
       "  <tbody>\n",
       "    <tr>\n",
       "      <th>0</th>\n",
       "      <td>1956967341</td>\n",
       "      <td>empty</td>\n",
       "      <td>@tiffanylue i know  i was listenin to bad habi...</td>\n",
       "    </tr>\n",
       "    <tr>\n",
       "      <th>1</th>\n",
       "      <td>1956967666</td>\n",
       "      <td>sadness</td>\n",
       "      <td>Layin n bed with a headache  ughhhh...waitin o...</td>\n",
       "    </tr>\n",
       "    <tr>\n",
       "      <th>2</th>\n",
       "      <td>1956967696</td>\n",
       "      <td>sadness</td>\n",
       "      <td>Funeral ceremony...gloomy friday...</td>\n",
       "    </tr>\n",
       "    <tr>\n",
       "      <th>3</th>\n",
       "      <td>1956967789</td>\n",
       "      <td>enthusiasm</td>\n",
       "      <td>wants to hang out with friends SOON!</td>\n",
       "    </tr>\n",
       "    <tr>\n",
       "      <th>4</th>\n",
       "      <td>1956968416</td>\n",
       "      <td>neutral</td>\n",
       "      <td>@dannycastillo We want to trade with someone w...</td>\n",
       "    </tr>\n",
       "  </tbody>\n",
       "</table>\n",
       "</div>"
      ],
      "text/plain": [
       "     tweet_id   sentiment                                            content\n",
       "0  1956967341       empty  @tiffanylue i know  i was listenin to bad habi...\n",
       "1  1956967666     sadness  Layin n bed with a headache  ughhhh...waitin o...\n",
       "2  1956967696     sadness                Funeral ceremony...gloomy friday...\n",
       "3  1956967789  enthusiasm               wants to hang out with friends SOON!\n",
       "4  1956968416     neutral  @dannycastillo We want to trade with someone w..."
      ]
     },
     "execution_count": 259,
     "metadata": {},
     "output_type": "execute_result"
    }
   ],
   "source": [
    "df = pd.read_csv('/Users/renatozuniga/Downloads/tweet_emotions.csv', delimiter=',')\n",
    "df.head()"
   ]
  },
  {
   "cell_type": "code",
   "execution_count": 260,
   "id": "cd8620dc",
   "metadata": {},
   "outputs": [
    {
     "data": {
      "image/png": "[encoded data removed]",
      "text/plain": [
       "<Figure size 1200x800 with 2 Axes>"
      ]
     },
     "metadata": {},
     "output_type": "display_data"
    }
   ],
   "source": [
    "col = 'sentiment'\n",
    "fig, (ax1, ax2)  = plt.subplots(nrows=1, ncols=2, figsize=(12,8))\n",
    "explode = list((np.array(list(df[col].dropna().value_counts()))/sum(list(df[col].dropna().value_counts())))[::-1])[:10]\n",
    "labels = list(df[col].dropna().unique())[:10]\n",
    "sizes = df[col].value_counts()[:10]\n",
    "#ax.pie(sizes, explode=explode, colors=bo, startangle=60, labels=labels,autopct='%1.0f%%', pctdistance=0.9)\n",
    "ax2.pie(sizes,  explode=explode, startangle=60, labels=labels,autopct='%1.0f%%', pctdistance=0.9)\n",
    "ax2.add_artist(plt.Circle((0,0),0.6,fc='white'))\n",
    "sns.countplot(y =col, data = df, ax=ax1, color='skyblue')\n",
    "ax1.set_title(\"Count of each emotion\")\n",
    "ax2.set_title(\"Percentage of each emotion\")\n",
    "plt.show()"
   ]
  },
  {
   "cell_type": "code",
   "execution_count": 261,
   "id": "9d9eb7a7",
   "metadata": {},
   "outputs": [],
   "source": [
    "df['sentiment'] = df['sentiment'].apply(lambda x : x if x in ['happiness', 'sadness', 'worry', 'neutral', 'love', 'surprise'] else \"other\") "
   ]
  },
  {
   "cell_type": "code",
   "execution_count": 262,
   "id": "c3b3b3ef",
   "metadata": {},
   "outputs": [
    {
     "data": {
      "image/png": "[encoded data removed]",
      "text/plain": [
       "<Figure size 1200x800 with 2 Axes>"
      ]
     },
     "metadata": {},
     "output_type": "display_data"
    }
   ],
   "source": [
    "col = 'sentiment'\n",
    "fig, (ax1, ax2)  = plt.subplots(nrows=1, ncols=2, figsize=(12,8))\n",
    "explode = list((np.array(list(df[col].dropna().value_counts()))/sum(list(df[col].dropna().value_counts())))[::-1])[:10]\n",
    "labels = list(df[col].dropna().unique())[:10]\n",
    "sizes = df[col].value_counts()[:10]\n",
    "#ax.pie(sizes, explode=explode, colors=bo, startangle=60, labels=labels,autopct='%1.0f%%', pctdistance=0.9)\n",
    "ax2.pie(sizes,  explode=explode, startangle=60, labels=labels,autopct='%1.0f%%', pctdistance=0.9)\n",
    "ax2.add_artist(plt.Circle((0,0),0.6,fc='white'))\n",
    "sns.countplot(y =col, data = df, ax=ax1, color='skyblue')\n",
    "ax1.set_title(\"Count of each emotion\")\n",
    "ax2.set_title(\"Percentage of each emotion\")\n",
    "plt.show()"
   ]
  },
  {
   "cell_type": "code",
   "execution_count": 263,
   "id": "36f18ba9",
   "metadata": {},
   "outputs": [],
   "source": [
    "df['tweet_length'] = df['content'].apply(lambda x : len(x))\n",
    "df['token_length'] = df['content'].apply(lambda x : len(x.split(\" \")))"
   ]
  },
  {
   "cell_type": "code",
   "execution_count": 264,
   "id": "129b383d",
   "metadata": {},
   "outputs": [
    {
     "data": {
      "image/png": "[encoded data removed]",
      "text/plain": [
       "<Figure size 1200x600 with 2 Axes>"
      ]
     },
     "metadata": {},
     "output_type": "display_data"
    }
   ],
   "source": [
    "fig, (ax1, ax2)  = plt.subplots(nrows=1, ncols=2, figsize=(12,6))\n",
    "sns.distplot(df['tweet_length'], ax=ax1, color='skyblue')\n",
    "sns.distplot(df['token_length'], ax=ax2, color='skyblue')\n",
    "ax1.set_title('Number of characters in the tweet')\n",
    "ax2.set_title('Number of token(words) in the tweet')\n",
    "plt.show()"
   ]
  },
  {
   "cell_type": "code",
   "execution_count": 265,
   "id": "5896132c",
   "metadata": {},
   "outputs": [],
   "source": [
    "avg_df = df.groupby('sentiment').agg({'tweet_length':'mean', 'token_length':'mean'})"
   ]
  },
  {
   "cell_type": "code",
   "execution_count": 266,
   "id": "237b87c0",
   "metadata": {},
   "outputs": [
    {
     "data": {
      "image/png": "[encoded data removed]",
      "text/plain": [
       "<Figure size 1600x600 with 2 Axes>"
      ]
     },
     "metadata": {},
     "output_type": "display_data"
    }
   ],
   "source": [
    "fig, (ax1, ax2)  = plt.subplots(nrows=1, ncols=2, figsize=(16,6))\n",
    "ax1.bar(avg_df.index, avg_df['tweet_length'], color='skyblue')\n",
    "ax2.bar(avg_df.index, avg_df['token_length'], color='skyblue')\n",
    "ax1.set_title('Avg number of characters')\n",
    "ax2.set_title('Avg number of words')\n",
    "ax1.set_xticklabels(avg_df.index, rotation = 45)\n",
    "ax2.set_xticklabels(avg_df.index, rotation = 45)\n",
    "plt.show()"
   ]
  },
  {
   "cell_type": "markdown",
   "id": "b9a739c6",
   "metadata": {},
   "source": [
    "### EDA on second dataset (used to train and test the model)\n",
    "---"
   ]
  },
  {
   "cell_type": "code",
   "execution_count": 267,
   "id": "cefc293e",
   "metadata": {},
   "outputs": [],
   "source": [
    "# Read datasets\n",
    "df_train = pd.read_csv('/Users/renatozuniga/Downloads/archive (2)/train.txt', names=['Text', 'Emotion'], sep=';')\n",
    "df_val = pd.read_csv('/Users/renatozuniga/Downloads/archive (2)/val.txt', names=['Text', 'Emotion'], sep=';')\n",
    "df_test = pd.read_csv('/Users/renatozuniga/Downloads/archive (2)/test.txt', names=['Text', 'Emotion'], sep=';')"
   ]
  },
  {
   "cell_type": "code",
   "execution_count": 268,
   "id": "01bdb0c6",
   "metadata": {},
   "outputs": [],
   "source": [
    "df_train.dropna(subset=['Emotion'], inplace=True)\n",
    "df_val.dropna(subset=['Emotion'], inplace=True)\n",
    "df_test.dropna(subset=['Emotion'], inplace=True)"
   ]
  },
  {
   "cell_type": "code",
   "execution_count": 269,
   "id": "71008ea6",
   "metadata": {},
   "outputs": [],
   "source": [
    "df_final = pd.concat([df_train, df_val, df_test])"
   ]
  },
  {
   "cell_type": "code",
   "execution_count": 270,
   "id": "756338d6",
   "metadata": {},
   "outputs": [
    {
     "data": {
      "text/plain": [
       "joy         6761\n",
       "sadness     5797\n",
       "anger       2709\n",
       "fear        2373\n",
       "love        1641\n",
       "surprise     719\n",
       "Name: Emotion, dtype: int64"
      ]
     },
     "execution_count": 270,
     "metadata": {},
     "output_type": "execute_result"
    }
   ],
   "source": [
    "df_final.Emotion.value_counts()"
   ]
  },
  {
   "cell_type": "code",
   "execution_count": 271,
   "id": "e2d5e8c5",
   "metadata": {},
   "outputs": [
    {
     "data": {
      "text/html": [
       "<div>\n",
       "<style scoped>\n",
       "    .dataframe tbody tr th:only-of-type {\n",
       "        vertical-align: middle;\n",
       "    }\n",
       "\n",
       "    .dataframe tbody tr th {\n",
       "        vertical-align: top;\n",
       "    }\n",
       "\n",
       "    .dataframe thead th {\n",
       "        text-align: right;\n",
       "    }\n",
       "</style>\n",
       "<table border=\"1\" class=\"dataframe\">\n",
       "  <thead>\n",
       "    <tr style=\"text-align: right;\">\n",
       "      <th></th>\n",
       "      <th>Text</th>\n",
       "      <th>Emotion</th>\n",
       "    </tr>\n",
       "  </thead>\n",
       "  <tbody>\n",
       "    <tr>\n",
       "      <th>0</th>\n",
       "      <td>i didnt feel humiliated</td>\n",
       "      <td>sadness</td>\n",
       "    </tr>\n",
       "    <tr>\n",
       "      <th>1</th>\n",
       "      <td>i can go from feeling so hopeless to so damned...</td>\n",
       "      <td>sadness</td>\n",
       "    </tr>\n",
       "    <tr>\n",
       "      <th>2</th>\n",
       "      <td>im grabbing a minute to post i feel greedy wrong</td>\n",
       "      <td>anger</td>\n",
       "    </tr>\n",
       "    <tr>\n",
       "      <th>3</th>\n",
       "      <td>i am ever feeling nostalgic about the fireplac...</td>\n",
       "      <td>love</td>\n",
       "    </tr>\n",
       "    <tr>\n",
       "      <th>4</th>\n",
       "      <td>i am feeling grouchy</td>\n",
       "      <td>anger</td>\n",
       "    </tr>\n",
       "  </tbody>\n",
       "</table>\n",
       "</div>"
      ],
      "text/plain": [
       "                                                Text  Emotion\n",
       "0                            i didnt feel humiliated  sadness\n",
       "1  i can go from feeling so hopeless to so damned...  sadness\n",
       "2   im grabbing a minute to post i feel greedy wrong    anger\n",
       "3  i am ever feeling nostalgic about the fireplac...     love\n",
       "4                               i am feeling grouchy    anger"
      ]
     },
     "execution_count": 271,
     "metadata": {},
     "output_type": "execute_result"
    }
   ],
   "source": [
    "df_final.head()"
   ]
  },
  {
   "cell_type": "code",
   "execution_count": 272,
   "id": "b0dec661",
   "metadata": {},
   "outputs": [
    {
     "data": {
      "image/png": "[encoded data removed]",
      "text/plain": [
       "<Figure size 1200x800 with 2 Axes>"
      ]
     },
     "metadata": {},
     "output_type": "display_data"
    }
   ],
   "source": [
    "col = 'Emotion'\n",
    "fig, (ax1, ax2)  = plt.subplots(nrows=1, ncols=2, figsize=(12,8))\n",
    "explode = list((np.array(list(df_final[col].dropna().value_counts()))/sum(list(df_final[col].dropna().value_counts())))[::-1])[:10]\n",
    "labels = list(df_final[col].dropna().unique())[:10]\n",
    "sizes = df_final[col].value_counts()[:10]\n",
    "#ax.pie(sizes, explode=explode, colors=bo, startangle=60, labels=labels,autopct='%1.0f%%', pctdistance=0.9)\n",
    "ax2.pie(sizes,  explode=explode, startangle=60, labels=labels,autopct='%1.0f%%', pctdistance=0.9)\n",
    "ax2.add_artist(plt.Circle((0,0),0.6,fc='white'))\n",
    "sns.countplot(y =col, data = df_final, ax=ax1, color='skyblue')\n",
    "ax1.set_title(\"Count of each emotion\")\n",
    "ax2.set_title(\"Percentage of each emotion\")\n",
    "plt.show()"
   ]
  },
  {
   "cell_type": "code",
   "execution_count": 273,
   "id": "3ebd79cb",
   "metadata": {},
   "outputs": [],
   "source": [
    "df_final['Emotion'] = df_final['Emotion'].apply(lambda x : x if x in ['sadness', 'anger', 'love', 'surprise', 'fear', 'joy'] else \"other\") "
   ]
  },
  {
   "cell_type": "code",
   "execution_count": 274,
   "id": "affbf1ad",
   "metadata": {},
   "outputs": [],
   "source": [
    "df_final['tweet_length'] = df_final['Emotion'].apply(lambda x : len(x))\n",
    "df_final['token_length'] = df_final['Emotion'].apply(lambda x : len(x.split(\" \")))"
   ]
  },
  {
   "cell_type": "code",
   "execution_count": 275,
   "id": "753cf1b3",
   "metadata": {},
   "outputs": [
    {
     "data": {
      "image/png": "[encoded data removed]",
      "text/plain": [
       "<Figure size 1200x600 with 2 Axes>"
      ]
     },
     "metadata": {},
     "output_type": "display_data"
    }
   ],
   "source": [
    "fig, (ax1, ax2)  = plt.subplots(nrows=1, ncols=2, figsize=(12,6))\n",
    "sns.distplot(df_final['tweet_length'], ax=ax1, color='skyblue')\n",
    "sns.distplot(df_final['token_length'], ax=ax2, color='skyblue')\n",
    "ax1.set_title('Number of characters in the tweet')\n",
    "ax2.set_title('Number of token(words) in the tweet')\n",
    "plt.show()"
   ]
  },
  {
   "cell_type": "code",
   "execution_count": 276,
   "id": "5e019b0d",
   "metadata": {},
   "outputs": [],
   "source": [
    "avg_df = df_final.groupby('Emotion').agg({'tweet_length':'mean', 'token_length':'mean'})"
   ]
  },
  {
   "cell_type": "code",
   "execution_count": 277,
   "id": "db5f1b00",
   "metadata": {},
   "outputs": [
    {
     "data": {
      "image/png": "[encoded data removed]",
      "text/plain": [
       "<Figure size 1600x600 with 2 Axes>"
      ]
     },
     "metadata": {},
     "output_type": "display_data"
    }
   ],
   "source": [
    "fig, (ax1, ax2)  = plt.subplots(nrows=1, ncols=2, figsize=(16,6))\n",
    "ax1.bar(avg_df.index, avg_df['tweet_length'], color='skyblue')\n",
    "ax2.bar(avg_df.index, avg_df['token_length'], color='skyblue')\n",
    "ax1.set_title('Avg number of characters')\n",
    "ax2.set_title('Avg number of words')\n",
    "ax1.set_xticklabels(avg_df.index, rotation = 45)\n",
    "ax2.set_xticklabels(avg_df.index, rotation = 45)\n",
    "plt.show()"
   ]
  },
  {
   "cell_type": "markdown",
   "id": "54a9953f",
   "metadata": {},
   "source": [
    "## Model building\n",
    "---"
   ]
  },
  {
   "cell_type": "code",
   "execution_count": 278,
   "id": "c014b2f9",
   "metadata": {},
   "outputs": [],
   "source": [
    "import re\n",
    "import torch\n",
    "import pickle\n",
    "import numpy as np\n",
    "import pandas as pd\n",
    "from tqdm import tqdm\n",
    "import torch.nn as nn\n",
    "from nltk.tokenize import word_tokenize\n",
    "from sklearn.metrics import accuracy_score\n",
    "from sklearn.preprocessing import LabelEncoder\n",
    "from sklearn.model_selection import train_test_split\n",
    "from torchsummary import summary"
   ]
  },
  {
   "cell_type": "code",
   "execution_count": 298,
   "id": "72393606",
   "metadata": {},
   "outputs": [],
   "source": [
    "lr = 0.001 #Learning rate\n",
    "vec_len = 50\n",
    "seq_len = 20\n",
    "num_epochs = 60 #Number of loops\n",
    "label_col_1 = 'sentiment'\n",
    "label_col_2 = 'Emotion'\n",
    "tokens_path = \"/Users/renatozuniga/Downloads/Attention_Model/Output/tokens.pkl\"\n",
    "labels_path = \"/Users/renatozuniga/Downloads/Attention_Model/Output/labels.pkl\"\n",
    "data_path_1 = \"/Users/renatozuniga/Downloads/Attention_Model/Input/complaints.csv\"\n",
    "data_path_2 = \"/Users/renatozuniga/Downloads/tweet_emotions.csv\"\n",
    "model_path = \"/Users/renatozuniga/Downloads/Attention_Model/Output/attention.pth\"\n",
    "vocabulary_path = \"/Users/renatozuniga/Downloads/Attention_Model/Output/vocabulary.pkl\"\n",
    "embeddings_path = \"/Users/renatozuniga/Downloads/Attention_Model/Output/embeddings.pkl\"\n",
    "glove_vector_path = \"/Users/renatozuniga/Downloads/Attention_Model/Input/glove.6B.50d.txt\"\n",
    "text_col_name_1 = 'content'\n",
    "text_col_name_2 = 'Text'\n",
    "label_encoder_path = \"/Users/renatozuniga/Downloads/Attention_Model/Output/label_encoder.pkl\"\n",
    "sentiment_map = {'empty': 'others',\n",
    "               'sadness': 'sadness',\n",
    "               'enthusiasm': 'others',\n",
    "               'neutral': 'neutral',\n",
    "               'worry': 'worry',\n",
    "               'surprise': 'surprise',\n",
    "               'love': 'love',\n",
    "               'fun': 'fun',\n",
    "               'hate': 'others',\n",
    "               'happiness': 'happiness',\n",
    "               'boredom': 'others',\n",
    "               'relief': 'others',\n",
    "               'anger': 'others'}"
   ]
  },
  {
   "cell_type": "code",
   "execution_count": 299,
   "id": "3d630f2d",
   "metadata": {},
   "outputs": [],
   "source": [
    "def save_file(name, obj):\n",
    "    \"\"\"\n",
    "    Function to save an object as pickle file\n",
    "    \"\"\"\n",
    "    with open(name, 'wb') as f:\n",
    "        pickle.dump(obj, f)\n",
    "\n",
    "\n",
    "def load_file(name):\n",
    "    \"\"\"\n",
    "    Function to load a pickle object\n",
    "    \"\"\"\n",
    "    return pickle.load(open(name, \"rb\"))"
   ]
  },
  {
   "cell_type": "markdown",
   "id": "43b5acbc",
   "metadata": {},
   "source": [
    "## Process glove embeddings\n",
    "---\n"
   ]
  },
  {
   "cell_type": "code",
   "execution_count": null,
   "id": "eee5f918",
   "metadata": {},
   "outputs": [],
   "source": [
    "with open(glove_vector_path, \"rt\") as f:\n",
    "    emb = f.readlines()"
   ]
  },
  {
   "cell_type": "code",
   "execution_count": 301,
   "id": "e9ccbe70",
   "metadata": {},
   "outputs": [],
   "source": [
    "vocabulary, embeddings = [], []\n",
    "\n",
    "for item in emb:\n",
    "    vocabulary.append(item.split()[0])\n",
    "    embeddings.append(item.split()[1:])"
   ]
  },
  {
   "cell_type": "code",
   "execution_count": 302,
   "id": "b4a14a71",
   "metadata": {},
   "outputs": [],
   "source": [
    "embeddings = np.array(embeddings, dtype=np.float32)"
   ]
  },
  {
   "cell_type": "code",
   "execution_count": 303,
   "id": "fd4ccde6",
   "metadata": {},
   "outputs": [],
   "source": [
    "vocabulary = [\"<pad>\", \"<unk>\"] + vocabulary"
   ]
  },
  {
   "cell_type": "code",
   "execution_count": 304,
   "id": "71543ebc",
   "metadata": {},
   "outputs": [],
   "source": [
    "embeddings = np.vstack([np.ones(50, dtype=np.float32), \n",
    "                        np.mean(embeddings, axis=0),\n",
    "                        embeddings])"
   ]
  },
  {
   "cell_type": "code",
   "execution_count": 305,
   "id": "3f987816",
   "metadata": {},
   "outputs": [],
   "source": [
    "save_file(embeddings_path, embeddings)\n",
    "save_file(vocabulary_path, vocabulary)"
   ]
  },
  {
   "cell_type": "markdown",
   "id": "913dafd5",
   "metadata": {},
   "source": [
    "## Process text data\n",
    "---"
   ]
  },
  {
   "cell_type": "code",
   "execution_count": 306,
   "id": "fffa9541",
   "metadata": {},
   "outputs": [],
   "source": [
    "data = df"
   ]
  },
  {
   "cell_type": "code",
   "execution_count": 307,
   "id": "1bb0f8b1",
   "metadata": {},
   "outputs": [],
   "source": [
    "data.dropna(subset=[text_col_name_1], inplace=True) #Drop NA values"
   ]
  },
  {
   "cell_type": "code",
   "execution_count": 309,
   "id": "97632e98",
   "metadata": {},
   "outputs": [],
   "source": [
    "data.replace({label_col: sentiment_map}, inplace=True)"
   ]
  },
  {
   "cell_type": "markdown",
   "id": "ae0a2799",
   "metadata": {},
   "source": [
    "### Encode labels"
   ]
  },
  {
   "cell_type": "code",
   "execution_count": 310,
   "id": "a972a22c",
   "metadata": {},
   "outputs": [],
   "source": [
    "label_encoder = LabelEncoder()\n",
    "label_encoder.fit(data[label_col_1])\n",
    "labels = label_encoder.transform(data[label_col_1])"
   ]
  },
  {
   "cell_type": "code",
   "execution_count": 311,
   "id": "cbaed89d",
   "metadata": {},
   "outputs": [],
   "source": [
    "save_file(labels_path, labels)\n",
    "save_file(label_encoder_path, label_encoder)"
   ]
  },
  {
   "cell_type": "code",
   "execution_count": 312,
   "id": "8fdc55ed",
   "metadata": {},
   "outputs": [
    {
     "name": "stdout",
     "output_type": "stream",
     "text": [
      "[3 4 4 ... 1 0 1]\n"
     ]
    }
   ],
   "source": [
    "print(labels)"
   ]
  },
  {
   "cell_type": "markdown",
   "id": "85d7fd40",
   "metadata": {},
   "source": [
    "### Process the text column\n"
   ]
  },
  {
   "cell_type": "code",
   "execution_count": 313,
   "id": "4d0e54a6",
   "metadata": {},
   "outputs": [],
   "source": [
    "input_text = list(data[text_col_name_1])"
   ]
  },
  {
   "cell_type": "code",
   "execution_count": 314,
   "id": "115b6c78",
   "metadata": {},
   "outputs": [
    {
     "data": {
      "text/plain": [
       "40000"
      ]
     },
     "execution_count": 314,
     "metadata": {},
     "output_type": "execute_result"
    }
   ],
   "source": [
    "len(input_text)"
   ]
  },
  {
   "cell_type": "markdown",
   "id": "ac868108",
   "metadata": {},
   "source": [
    "### Convert text to lower case"
   ]
  },
  {
   "cell_type": "code",
   "execution_count": 315,
   "id": "ba0d5222",
   "metadata": {},
   "outputs": [
    {
     "name": "stderr",
     "output_type": "stream",
     "text": [
      "100%|████████████████████████████████| 40000/40000 [00:00<00:00, 1033996.65it/s]\n"
     ]
    }
   ],
   "source": [
    "input_text = [i.lower() for i in tqdm(input_text)]"
   ]
  },
  {
   "cell_type": "markdown",
   "id": "4608f31f",
   "metadata": {},
   "source": [
    "### Remove punctuations except apostrophe"
   ]
  },
  {
   "cell_type": "code",
   "execution_count": 316,
   "id": "90146ed3",
   "metadata": {},
   "outputs": [
    {
     "name": "stderr",
     "output_type": "stream",
     "text": [
      "100%|█████████████████████████████████| 40000/40000 [00:00<00:00, 239983.75it/s]\n"
     ]
    }
   ],
   "source": [
    "input_text = [re.sub(r\"[^\\w\\d'\\s]+\", \" \", i) \n",
    "              for i in tqdm(input_text)]"
   ]
  },
  {
   "cell_type": "markdown",
   "id": "515dcd07",
   "metadata": {},
   "source": [
    "### Remove digits"
   ]
  },
  {
   "cell_type": "code",
   "execution_count": 317,
   "id": "dea21c2b",
   "metadata": {},
   "outputs": [
    {
     "name": "stderr",
     "output_type": "stream",
     "text": [
      "100%|█████████████████████████████████| 40000/40000 [00:00<00:00, 331438.46it/s]\n"
     ]
    }
   ],
   "source": [
    "input_text = [re.sub(\"\\d+\", \"\", i) for i in tqdm(input_text)]"
   ]
  },
  {
   "cell_type": "markdown",
   "id": "63e00027",
   "metadata": {},
   "source": [
    "### Remove more than one consecutive instance of 'x'"
   ]
  },
  {
   "cell_type": "code",
   "execution_count": 318,
   "id": "a0166884",
   "metadata": {},
   "outputs": [
    {
     "name": "stderr",
     "output_type": "stream",
     "text": [
      "100%|█████████████████████████████████| 40000/40000 [00:00<00:00, 378558.40it/s]\n"
     ]
    }
   ],
   "source": [
    "input_text = [re.sub(r'[x]{2,}', \"\", i) for i in tqdm(input_text)]"
   ]
  },
  {
   "cell_type": "markdown",
   "id": "8fd398ce",
   "metadata": {},
   "source": [
    "### Remove multiple spaces with single space"
   ]
  },
  {
   "cell_type": "code",
   "execution_count": 319,
   "id": "7a14265d",
   "metadata": {},
   "outputs": [
    {
     "name": "stderr",
     "output_type": "stream",
     "text": [
      "100%|█████████████████████████████████| 40000/40000 [00:00<00:00, 215038.75it/s]\n"
     ]
    }
   ],
   "source": [
    "input_text = [re.sub(' +', ' ', i) for i in tqdm(input_text)]"
   ]
  },
  {
   "cell_type": "markdown",
   "id": "26c8b4e5",
   "metadata": {},
   "source": [
    "### Tokenize the text"
   ]
  },
  {
   "cell_type": "code",
   "execution_count": 320,
   "id": "c6c30164",
   "metadata": {},
   "outputs": [
    {
     "name": "stderr",
     "output_type": "stream",
     "text": [
      "100%|███████████████████████████████████| 40000/40000 [00:04<00:00, 8003.01it/s]\n"
     ]
    }
   ],
   "source": [
    "tokens = [word_tokenize(t) for t in tqdm(input_text)]"
   ]
  },
  {
   "cell_type": "markdown",
   "id": "1b542248",
   "metadata": {},
   "source": [
    "### Take the first 20 tokens in each complaint text"
   ]
  },
  {
   "cell_type": "code",
   "execution_count": 321,
   "id": "687cfb80",
   "metadata": {},
   "outputs": [
    {
     "name": "stdout",
     "output_type": "stream",
     "text": [
      "['layin', 'n', 'bed', 'with', 'a', 'headache', 'ughhhh', 'waitin', 'on', 'your', 'call']\n"
     ]
    }
   ],
   "source": [
    "print(tokens[1])"
   ]
  },
  {
   "cell_type": "code",
   "execution_count": 322,
   "id": "ad6877d3",
   "metadata": {},
   "outputs": [
    {
     "name": "stderr",
     "output_type": "stream",
     "text": [
      "100%|█████████████████████████████████| 40000/40000 [00:00<00:00, 522174.82it/s]\n"
     ]
    }
   ],
   "source": [
    "tokens = [i[:20] if len(i) > 19 else ['<pad>'] * (20 - len(i)) + i \n",
    "          for i in tqdm(tokens)]"
   ]
  },
  {
   "cell_type": "markdown",
   "id": "e31fdedf",
   "metadata": {},
   "source": [
    "### Convert tokens to integer indices from vocabulary"
   ]
  },
  {
   "cell_type": "code",
   "execution_count": 323,
   "id": "e9d69e63",
   "metadata": {},
   "outputs": [],
   "source": [
    "def token_index(tokens, vocabulary, missing='<unk>'):\n",
    "    idx_token = []\n",
    "    for text in tqdm(tokens):\n",
    "        idx_text = []\n",
    "        for token in text:\n",
    "            if token in vocabulary:\n",
    "                idx_text.append(vocabulary.index(token))\n",
    "            else:\n",
    "                idx_text.append(vocabulary.index(missing))\n",
    "        idx_token.append(idx_text)\n",
    "    return idx_token"
   ]
  },
  {
   "cell_type": "code",
   "execution_count": 324,
   "id": "747df715",
   "metadata": {},
   "outputs": [
    {
     "name": "stderr",
     "output_type": "stream",
     "text": [
      "100%|███████████████████████████████████| 40000/40000 [3:10:14<00:00,  3.50it/s]\n"
     ]
    }
   ],
   "source": [
    "tokens = token_index(tokens, vocabulary)"
   ]
  },
  {
   "cell_type": "markdown",
   "id": "427df1f5",
   "metadata": {},
   "source": [
    "### Save the tokens\n"
   ]
  },
  {
   "cell_type": "code",
   "execution_count": 330,
   "id": "e18d42f0",
   "metadata": {},
   "outputs": [],
   "source": [
    "save_file(tokens_path, tokens)"
   ]
  },
  {
   "cell_type": "markdown",
   "id": "c9aab06a",
   "metadata": {},
   "source": [
    "## Create attention model\n",
    "---"
   ]
  },
  {
   "cell_type": "code",
   "execution_count": 331,
   "id": "030e4b68",
   "metadata": {},
   "outputs": [],
   "source": [
    "class AttentionModel(nn.Module):\n",
    "\n",
    "    def __init__(self, vec_len, seq_len, n_classes):\n",
    "        super(AttentionModel, self).__init__()\n",
    "        self.vec_len = vec_len\n",
    "        self.seq_len = seq_len\n",
    "        self.attn_weights = torch.cat([torch.tensor([[0.]]),\n",
    "                                       torch.randn(vec_len, 1) /\n",
    "                                       torch.sqrt(torch.tensor(vec_len))])\n",
    "        self.attn_weights.requires_grad = True\n",
    "        self.attn_weights = nn.Parameter(self.attn_weights)\n",
    "        self.activation = nn.ReLU()\n",
    "        self.softmax = nn.Softmax(dim=1)\n",
    "        self.dropout = nn.Dropout(0.5)\n",
    "        self.norm1 = nn.LayerNorm((vec_len + 1,))\n",
    "        \n",
    "        self.linear1 = nn.Linear(vec_len + 1, 5000)\n",
    "        self.norm2 = nn.LayerNorm((5000,))\n",
    "        self.linear2 = nn.Linear(5000, 2000)\n",
    "        self.norm3 = nn.LayerNorm((2000,))\n",
    "        self.linear3 = nn.Linear(2000, 1000)\n",
    "        self.norm4 = nn.LayerNorm((1000,))\n",
    "        self.linear4 = nn.Linear(1000, n_classes)\n",
    "\n",
    "    def forward(self, input_data):\n",
    "        hidden = torch.matmul(input_data, self.attn_weights)\n",
    "        hidden = self.activation(hidden)\n",
    "        attn = self.softmax(hidden)\n",
    "        attn = attn.repeat(1, 1, self.vec_len + 1).reshape(attn.shape[0],\n",
    "                                                           self.seq_len,\n",
    "                                                           self.vec_len + 1)\n",
    "        attn_output = input_data * attn\n",
    "        attn_output = torch.sum(attn_output, axis=1)\n",
    "        \n",
    "        attn_output = self.norm1(attn_output)\n",
    "        attn_output = self.dropout(attn_output)\n",
    "        \n",
    "        hidden_output = self.linear1(attn_output)\n",
    "        hidden_output = self.activation(hidden_output)\n",
    "        \n",
    "        hidden_output = self.norm2(hidden_output)\n",
    "        hidden_output = self.dropout(hidden_output)\n",
    "        \n",
    "        hidden_output = self.linear2(hidden_output)\n",
    "        hidden_output = self.activation(hidden_output)\n",
    "        \n",
    "        hidden_output = self.norm3(hidden_output)\n",
    "        hidden_output = self.dropout(hidden_output)\n",
    "        \n",
    "        hidden_output = self.linear3(hidden_output)\n",
    "        hidden_output = self.activation(hidden_output)\n",
    "        \n",
    "        hidden_output = self.norm4(hidden_output)\n",
    "        output = self.linear4(hidden_output)\n",
    "        \n",
    "        return output"
   ]
  },
  {
   "cell_type": "markdown",
   "id": "a8045e8a",
   "metadata": {},
   "source": [
    "## Create PyTorch dataset\n",
    "---"
   ]
  },
  {
   "cell_type": "code",
   "execution_count": 332,
   "id": "8fa8c3ab",
   "metadata": {},
   "outputs": [],
   "source": [
    "class TextDataset(torch.utils.data.Dataset):\n",
    "\n",
    "    def __init__(self, tokens, embeddings, labels):\n",
    "        self.tokens = tokens\n",
    "        self.embeddings = embeddings\n",
    "        self.labels = labels\n",
    "\n",
    "    def __len__(self):\n",
    "        return len(self.tokens)\n",
    "\n",
    "    def __getitem__(self, idx):\n",
    "        emb = torch.tensor(self.embeddings[self.tokens[idx], :])\n",
    "        input_ = torch.cat((torch.ones(emb.shape[0],1), emb), dim=1)\n",
    "        return torch.tensor(self.labels[idx]), input_"
   ]
  },
  {
   "cell_type": "markdown",
   "id": "21f27eb3",
   "metadata": {},
   "source": [
    "### Function to train the model"
   ]
  },
  {
   "cell_type": "code",
   "execution_count": 333,
   "id": "41f09193",
   "metadata": {},
   "outputs": [],
   "source": [
    "def train(train_loader, valid_loader, model, criterion, optimizer, \n",
    "          device, num_epochs, model_path):\n",
    "    best_loss = 1e8\n",
    "    epoch_train_losses = []\n",
    "    epoch_valid_losses = []\n",
    "\n",
    "    for i in range(num_epochs):\n",
    "        print(f\"Epoch {i+1} of {num_epochs}\")\n",
    "        valid_loss, train_loss = [], []\n",
    "        model.train()\n",
    "        # Train loop\n",
    "        for batch_labels, batch_data in tqdm(train_loader):\n",
    "            batch_labels = batch_labels.to(device)\n",
    "            batch_data = batch_data.to(device)\n",
    "            batch_output = model(batch_data)\n",
    "            batch_output = torch.squeeze(batch_output)\n",
    "            loss = criterion(batch_output, batch_labels)\n",
    "            train_loss.append(loss.item())\n",
    "            optimizer.zero_grad()\n",
    "            loss.backward()\n",
    "            optimizer.step()\n",
    "\n",
    "        model.eval()\n",
    "        # Validation loop\n",
    "        for batch_labels, batch_data in tqdm(valid_loader):\n",
    "            batch_labels = batch_labels.to(device)\n",
    "            batch_data = batch_data.to(device)\n",
    "            batch_output = model(batch_data)\n",
    "            batch_output = torch.squeeze(batch_output)\n",
    "            loss = criterion(batch_output, batch_labels)\n",
    "            valid_loss.append(loss.item())\n",
    "\n",
    "        t_loss = np.mean(train_loss)\n",
    "        v_loss = np.mean(valid_loss)\n",
    "        epoch_train_losses.append(t_loss)\n",
    "        epoch_valid_losses.append(v_loss)\n",
    "\n",
    "        print(f\"Train Loss: {t_loss}, Validation Loss: {v_loss}\")\n",
    "\n",
    "        if v_loss < best_loss:\n",
    "            best_loss = v_loss\n",
    "            torch.save(model.state_dict(), model_path)\n",
    "\n",
    "        print(f\"Best Validation Loss: {best_loss}\")\n",
    "\n",
    "    # Plotting\n",
    "    plt.figure(figsize=(10, 5))\n",
    "    plt.plot(epoch_train_losses, label='Training Loss')\n",
    "    plt.plot(epoch_valid_losses, label='Validation Loss')\n",
    "    plt.xlabel('Epochs')\n",
    "    plt.ylabel('Loss')\n",
    "    plt.title('Training and Validation Loss per Epoch')\n",
    "    plt.legend()\n",
    "    plt.show()"
   ]
  },
  {
   "cell_type": "markdown",
   "id": "b099c28e",
   "metadata": {},
   "source": [
    "### Function to test the model"
   ]
  },
  {
   "cell_type": "code",
   "execution_count": 334,
   "id": "cb4a7e71",
   "metadata": {},
   "outputs": [],
   "source": [
    "from sklearn.metrics import f1_score\n",
    "\n",
    "def test(test_loader, model, criterion, device, num_classes):\n",
    "    model.eval()\n",
    "    test_loss = []\n",
    "    true_labels = []\n",
    "    predicted_labels = []\n",
    "\n",
    "    # Initialize arrays to store precision, recall, and F1 score for each class\n",
    "    precision_per_class = []\n",
    "    recall_per_class = []\n",
    "    f1_per_class = []\n",
    "\n",
    "    for batch_labels, batch_data in tqdm(test_loader):\n",
    "        # Move data to device\n",
    "        batch_labels = batch_labels.to(device)\n",
    "        batch_data = batch_data.to(device)\n",
    "        # Forward pass\n",
    "        batch_output = model(batch_data)\n",
    "        batch_output = torch.squeeze(batch_output)\n",
    "        # Calculate loss\n",
    "        loss = criterion(batch_output, batch_labels)\n",
    "        test_loss.append(loss.item())\n",
    "        batch_preds = torch.argmax(batch_output, axis=1)\n",
    "        # Move predictions to CPU\n",
    "        if torch.cuda.is_available():\n",
    "            batch_labels = batch_labels.cpu()\n",
    "            batch_preds = batch_preds.cpu()\n",
    "        # Collect true and predicted labels\n",
    "        true_labels.extend(batch_labels.detach().numpy())\n",
    "        predicted_labels.extend(batch_preds.detach().numpy())\n",
    "\n",
    "    test_loss = np.mean(test_loss)\n",
    "    print(f\"Test Loss: {test_loss}\")\n",
    "\n",
    "    # Calculate confusion matrix\n",
    "    conf_matrix = confusion_matrix(true_labels, predicted_labels)\n",
    "    print(\"Confusion Matrix:\")\n",
    "    print(conf_matrix)\n",
    "\n",
    "    # Calculate precision, recall, and F1 score for each class\n",
    "    for i in range(num_classes):\n",
    "        precision = precision_score(true_labels, predicted_labels, labels=[i], average='micro')\n",
    "        recall = recall_score(true_labels, predicted_labels, labels=[i], average='micro')\n",
    "        f1 = f1_score(true_labels, predicted_labels, labels=[i], average='micro')\n",
    "        precision_per_class.append(precision)\n",
    "        recall_per_class.append(recall)\n",
    "        \n",
    "        f1_per_class.append(f1)\n",
    "\n",
    "    print(\"Precision per class:\", precision_per_class)\n",
    "    print(\"Recall per class:\", recall_per_class)\n",
    "    print(\"F1 score per class:\", f1_per_class)"
   ]
  },
  {
   "cell_type": "markdown",
   "id": "990c888a",
   "metadata": {},
   "source": [
    "## Train attention model\n",
    "---"
   ]
  },
  {
   "cell_type": "markdown",
   "id": "6f53d9dd",
   "metadata": {},
   "source": [
    "### Load the files"
   ]
  },
  {
   "cell_type": "code",
   "execution_count": 335,
   "id": "cb518a0f",
   "metadata": {},
   "outputs": [],
   "source": [
    "tokens = load_file(tokens_path)\n",
    "labels = load_file(labels_path)\n",
    "embeddings = load_file(embeddings_path)\n",
    "label_encoder = load_file(label_encoder_path)\n",
    "num_classes = len(label_encoder.classes_)\n",
    "vocabulary = load_file(vocabulary_path)"
   ]
  },
  {
   "cell_type": "markdown",
   "id": "377376cb",
   "metadata": {},
   "source": [
    "### Split dataset into train, validation and test sets"
   ]
  },
  {
   "cell_type": "code",
   "execution_count": 336,
   "id": "9c0651dd",
   "metadata": {},
   "outputs": [],
   "source": [
    "X_train, X_test, y_train, y_test = train_test_split(tokens, labels,\n",
    "                                                    test_size=0.2)\n",
    "X_train, X_valid, y_train, y_valid = train_test_split(X_train, \n",
    "                                                    y_train,\n",
    "                                                     test_size=0.25)"
   ]
  },
  {
   "cell_type": "markdown",
   "id": "d6588638",
   "metadata": {},
   "source": [
    "### Create PyTorch datasets"
   ]
  },
  {
   "cell_type": "code",
   "execution_count": 337,
   "id": "59b95761",
   "metadata": {},
   "outputs": [],
   "source": [
    "train_dataset = TextDataset(X_train, embeddings, y_train)\n",
    "valid_dataset = TextDataset(X_valid, embeddings, y_valid)\n",
    "test_dataset = TextDataset(X_test, embeddings, y_test)"
   ]
  },
  {
   "cell_type": "markdown",
   "id": "341e05d6",
   "metadata": {},
   "source": [
    "### Create data loaders"
   ]
  },
  {
   "cell_type": "code",
   "execution_count": 338,
   "id": "12ce7bf1",
   "metadata": {},
   "outputs": [],
   "source": [
    "train_loader = torch.utils.data.DataLoader(train_dataset, \n",
    "                                           batch_size=120,\n",
    "                                           shuffle=True, \n",
    "                                           drop_last=True)\n",
    "valid_loader = torch.utils.data.DataLoader(valid_dataset, \n",
    "                                           batch_size=120)\n",
    "test_loader = torch.utils.data.DataLoader(test_dataset, \n",
    "                                          batch_size=120)"
   ]
  },
  {
   "cell_type": "code",
   "execution_count": 339,
   "id": "4f99d8ff",
   "metadata": {},
   "outputs": [
    {
     "name": "stdout",
     "output_type": "stream",
     "text": [
      "Order of classes: ['other' 'sadness' 'neutral' 'worry' 'surprise' 'love' 'happiness']\n"
     ]
    }
   ],
   "source": [
    "# Order for the confusion matrix\n",
    "class_order = data['sentiment'].unique()\n",
    "print(\"Order of classes:\", class_order)"
   ]
  },
  {
   "cell_type": "markdown",
   "id": "5e67af34",
   "metadata": {},
   "source": [
    "### Create model object"
   ]
  },
  {
   "cell_type": "code",
   "execution_count": 340,
   "id": "1a2a993e",
   "metadata": {},
   "outputs": [],
   "source": [
    "device = torch.device(\"cuda:0\" if torch.cuda.is_available() \n",
    "                      else \"cpu\")"
   ]
  },
  {
   "cell_type": "code",
   "execution_count": 341,
   "id": "b4820188",
   "metadata": {},
   "outputs": [],
   "source": [
    "model = AttentionModel(vec_len, seq_len, num_classes)"
   ]
  },
  {
   "cell_type": "markdown",
   "id": "b126e5bd",
   "metadata": {},
   "source": [
    "### Visualize model architecture"
   ]
  },
  {
   "cell_type": "code",
   "execution_count": 342,
   "id": "23ad3637",
   "metadata": {},
   "outputs": [
    {
     "name": "stdout",
     "output_type": "stream",
     "text": [
      "AttentionModel(\n",
      "  (activation): ReLU()\n",
      "  (softmax): Softmax(dim=1)\n",
      "  (dropout): Dropout(p=0.5, inplace=False)\n",
      "  (norm1): LayerNorm((51,), eps=1e-05, elementwise_affine=True)\n",
      "  (linear1): Linear(in_features=51, out_features=5000, bias=True)\n",
      "  (norm2): LayerNorm((5000,), eps=1e-05, elementwise_affine=True)\n",
      "  (linear2): Linear(in_features=5000, out_features=2000, bias=True)\n",
      "  (norm3): LayerNorm((2000,), eps=1e-05, elementwise_affine=True)\n",
      "  (linear3): Linear(in_features=2000, out_features=1000, bias=True)\n",
      "  (norm4): LayerNorm((1000,), eps=1e-05, elementwise_affine=True)\n",
      "  (linear4): Linear(in_features=1000, out_features=7, bias=True)\n",
      ")\n"
     ]
    }
   ],
   "source": [
    "print(model)"
   ]
  },
  {
   "cell_type": "code",
   "execution_count": 343,
   "id": "a70837ce",
   "metadata": {},
   "outputs": [
    {
     "name": "stdout",
     "output_type": "stream",
     "text": [
      "----------------------------------------------------------------\n",
      "        Layer (type)               Output Shape         Param #\n",
      "================================================================\n",
      "              ReLU-1                [-1, 20, 1]               0\n",
      "           Softmax-2                [-1, 20, 1]               0\n",
      "         LayerNorm-3                   [-1, 51]             102\n",
      "           Dropout-4                   [-1, 51]               0\n",
      "            Linear-5                 [-1, 5000]         260,000\n",
      "              ReLU-6                 [-1, 5000]               0\n",
      "         LayerNorm-7                 [-1, 5000]          10,000\n",
      "           Dropout-8                 [-1, 5000]               0\n",
      "            Linear-9                 [-1, 2000]      10,002,000\n",
      "             ReLU-10                 [-1, 2000]               0\n",
      "        LayerNorm-11                 [-1, 2000]           4,000\n",
      "          Dropout-12                 [-1, 2000]               0\n",
      "           Linear-13                 [-1, 1000]       2,001,000\n",
      "             ReLU-14                 [-1, 1000]               0\n",
      "        LayerNorm-15                 [-1, 1000]           2,000\n",
      "           Linear-16                    [-1, 7]           7,007\n",
      "================================================================\n",
      "Total params: 12,286,109\n",
      "Trainable params: 12,286,109\n",
      "Non-trainable params: 0\n",
      "----------------------------------------------------------------\n",
      "Input size (MB): 0.00\n",
      "Forward/backward pass size (MB): 0.24\n",
      "Params size (MB): 46.87\n",
      "Estimated Total Size (MB): 47.11\n",
      "----------------------------------------------------------------\n"
     ]
    }
   ],
   "source": [
    "summary(model, input_size=(seq_len, vec_len + 1))"
   ]
  },
  {
   "cell_type": "markdown",
   "id": "104cb25f",
   "metadata": {},
   "source": [
    "### Move the model to GPU if available"
   ]
  },
  {
   "cell_type": "code",
   "execution_count": 344,
   "id": "b9fbdc44",
   "metadata": {},
   "outputs": [],
   "source": [
    "if torch.cuda.is_available():\n",
    "    model = model.cuda()"
   ]
  },
  {
   "cell_type": "markdown",
   "id": "a09aa779",
   "metadata": {},
   "source": [
    "### Define loss function and optimizer"
   ]
  },
  {
   "cell_type": "code",
   "execution_count": 345,
   "id": "5a18d209",
   "metadata": {},
   "outputs": [],
   "source": [
    "criterion = torch.nn.CrossEntropyLoss()\n",
    "optimizer = torch.optim.Adam(model.parameters(), lr=lr)"
   ]
  },
  {
   "cell_type": "markdown",
   "id": "68ed7f39",
   "metadata": {},
   "source": [
    "### Model training"
   ]
  },
  {
   "cell_type": "code",
   "execution_count": 346,
   "id": "4b09b406",
   "metadata": {},
   "outputs": [
    {
     "name": "stdout",
     "output_type": "stream",
     "text": [
      "Epoch 1 of 60\n"
     ]
    },
    {
     "name": "stderr",
     "output_type": "stream",
     "text": [
      "100%|█████████████████████████████████████████| 200/200 [00:46<00:00,  4.30it/s]\n",
      "100%|███████████████████████████████████████████| 67/67 [00:03<00:00, 17.92it/s]\n"
     ]
    },
    {
     "name": "stdout",
     "output_type": "stream",
     "text": [
      "Train Loss: 1.951918177008629, Validation Loss: 1.8689153550276116\n",
      "Best Validation Loss: 1.8689153550276116\n",
      "Epoch 2 of 60\n"
     ]
    },
    {
     "name": "stderr",
     "output_type": "stream",
     "text": [
      "100%|█████████████████████████████████████████| 200/200 [00:44<00:00,  4.49it/s]\n",
      "100%|███████████████████████████████████████████| 67/67 [00:03<00:00, 20.24it/s]\n"
     ]
    },
    {
     "name": "stdout",
     "output_type": "stream",
     "text": [
      "Train Loss: 1.8291061079502107, Validation Loss: 1.7798504420180818\n",
      "Best Validation Loss: 1.7798504420180818\n",
      "Epoch 3 of 60\n"
     ]
    },
    {
     "name": "stderr",
     "output_type": "stream",
     "text": [
      "100%|█████████████████████████████████████████| 200/200 [00:37<00:00,  5.29it/s]\n",
      "100%|███████████████████████████████████████████| 67/67 [00:04<00:00, 14.50it/s]\n"
     ]
    },
    {
     "name": "stdout",
     "output_type": "stream",
     "text": [
      "Train Loss: 1.8021920251846313, Validation Loss: 1.7577204348436042\n",
      "Best Validation Loss: 1.7577204348436042\n",
      "Epoch 4 of 60\n"
     ]
    },
    {
     "name": "stderr",
     "output_type": "stream",
     "text": [
      "100%|█████████████████████████████████████████| 200/200 [00:37<00:00,  5.35it/s]\n",
      "100%|███████████████████████████████████████████| 67/67 [00:03<00:00, 18.36it/s]\n"
     ]
    },
    {
     "name": "stdout",
     "output_type": "stream",
     "text": [
      "Train Loss: 1.7804090011119842, Validation Loss: 1.754568589267446\n",
      "Best Validation Loss: 1.754568589267446\n",
      "Epoch 5 of 60\n"
     ]
    },
    {
     "name": "stderr",
     "output_type": "stream",
     "text": [
      "100%|█████████████████████████████████████████| 200/200 [00:44<00:00,  4.49it/s]\n",
      "100%|███████████████████████████████████████████| 67/67 [00:03<00:00, 18.50it/s]\n"
     ]
    },
    {
     "name": "stdout",
     "output_type": "stream",
     "text": [
      "Train Loss: 1.7649332332611083, Validation Loss: 1.7398218058828097\n",
      "Best Validation Loss: 1.7398218058828097\n",
      "Epoch 6 of 60\n"
     ]
    },
    {
     "name": "stderr",
     "output_type": "stream",
     "text": [
      "100%|█████████████████████████████████████████| 200/200 [00:43<00:00,  4.63it/s]\n",
      "100%|███████████████████████████████████████████| 67/67 [00:03<00:00, 17.03it/s]\n"
     ]
    },
    {
     "name": "stdout",
     "output_type": "stream",
     "text": [
      "Train Loss: 1.7592510503530503, Validation Loss: 1.7179640798426385\n",
      "Best Validation Loss: 1.7179640798426385\n",
      "Epoch 7 of 60\n"
     ]
    },
    {
     "name": "stderr",
     "output_type": "stream",
     "text": [
      "100%|█████████████████████████████████████████| 200/200 [00:35<00:00,  5.62it/s]\n",
      "100%|███████████████████████████████████████████| 67/67 [00:03<00:00, 19.38it/s]\n"
     ]
    },
    {
     "name": "stdout",
     "output_type": "stream",
     "text": [
      "Train Loss: 1.7469787234067917, Validation Loss: 1.7165953721573104\n",
      "Best Validation Loss: 1.7165953721573104\n",
      "Epoch 8 of 60\n"
     ]
    },
    {
     "name": "stderr",
     "output_type": "stream",
     "text": [
      "100%|█████████████████████████████████████████| 200/200 [00:32<00:00,  6.19it/s]\n",
      "100%|███████████████████████████████████████████| 67/67 [00:03<00:00, 19.82it/s]\n"
     ]
    },
    {
     "name": "stdout",
     "output_type": "stream",
     "text": [
      "Train Loss: 1.741813103556633, Validation Loss: 1.7053080121083046\n",
      "Best Validation Loss: 1.7053080121083046\n",
      "Epoch 9 of 60\n"
     ]
    },
    {
     "name": "stderr",
     "output_type": "stream",
     "text": [
      "100%|█████████████████████████████████████████| 200/200 [00:33<00:00,  6.01it/s]\n",
      "100%|███████████████████████████████████████████| 67/67 [00:03<00:00, 18.98it/s]\n"
     ]
    },
    {
     "name": "stdout",
     "output_type": "stream",
     "text": [
      "Train Loss: 1.7367394256591797, Validation Loss: 1.7137503499415383\n",
      "Best Validation Loss: 1.7053080121083046\n",
      "Epoch 10 of 60\n"
     ]
    },
    {
     "name": "stderr",
     "output_type": "stream",
     "text": [
      "100%|█████████████████████████████████████████| 200/200 [01:07<00:00,  2.98it/s]\n",
      "100%|███████████████████████████████████████████| 67/67 [00:04<00:00, 15.09it/s]\n"
     ]
    },
    {
     "name": "stdout",
     "output_type": "stream",
     "text": [
      "Train Loss: 1.7288883173465728, Validation Loss: 1.7031440663693556\n",
      "Best Validation Loss: 1.7031440663693556\n",
      "Epoch 11 of 60\n"
     ]
    },
    {
     "name": "stderr",
     "output_type": "stream",
     "text": [
      "100%|█████████████████████████████████████████| 200/200 [03:21<00:00,  1.01s/it]\n",
      "100%|███████████████████████████████████████████| 67/67 [00:03<00:00, 20.86it/s]\n"
     ]
    },
    {
     "name": "stdout",
     "output_type": "stream",
     "text": [
      "Train Loss: 1.725346177816391, Validation Loss: 1.7078708054414435\n",
      "Best Validation Loss: 1.7031440663693556\n",
      "Epoch 12 of 60\n"
     ]
    },
    {
     "name": "stderr",
     "output_type": "stream",
     "text": [
      "100%|█████████████████████████████████████████| 200/200 [00:30<00:00,  6.46it/s]\n",
      "100%|███████████████████████████████████████████| 67/67 [00:03<00:00, 20.09it/s]\n"
     ]
    },
    {
     "name": "stdout",
     "output_type": "stream",
     "text": [
      "Train Loss: 1.720610463619232, Validation Loss: 1.7102952875308137\n",
      "Best Validation Loss: 1.7031440663693556\n",
      "Epoch 13 of 60\n"
     ]
    },
    {
     "name": "stderr",
     "output_type": "stream",
     "text": [
      "100%|█████████████████████████████████████████| 200/200 [00:39<00:00,  5.04it/s]\n",
      "100%|███████████████████████████████████████████| 67/67 [00:03<00:00, 17.19it/s]\n"
     ]
    },
    {
     "name": "stdout",
     "output_type": "stream",
     "text": [
      "Train Loss: 1.7140155655145646, Validation Loss: 1.6987444571594694\n",
      "Best Validation Loss: 1.6987444571594694\n",
      "Epoch 14 of 60\n"
     ]
    },
    {
     "name": "stderr",
     "output_type": "stream",
     "text": [
      "100%|█████████████████████████████████████████| 200/200 [00:42<00:00,  4.76it/s]\n",
      "100%|███████████████████████████████████████████| 67/67 [00:03<00:00, 20.36it/s]\n"
     ]
    },
    {
     "name": "stdout",
     "output_type": "stream",
     "text": [
      "Train Loss: 1.712934398651123, Validation Loss: 1.698147483726046\n",
      "Best Validation Loss: 1.698147483726046\n",
      "Epoch 15 of 60\n"
     ]
    },
    {
     "name": "stderr",
     "output_type": "stream",
     "text": [
      "100%|█████████████████████████████████████████| 200/200 [00:38<00:00,  5.22it/s]\n",
      "100%|███████████████████████████████████████████| 67/67 [00:03<00:00, 17.75it/s]\n"
     ]
    },
    {
     "name": "stdout",
     "output_type": "stream",
     "text": [
      "Train Loss: 1.7109600579738617, Validation Loss: 1.6947188430757665\n",
      "Best Validation Loss: 1.6947188430757665\n",
      "Epoch 16 of 60\n"
     ]
    },
    {
     "name": "stderr",
     "output_type": "stream",
     "text": [
      "100%|█████████████████████████████████████████| 200/200 [00:40<00:00,  4.96it/s]\n",
      "100%|███████████████████████████████████████████| 67/67 [00:03<00:00, 17.74it/s]\n"
     ]
    },
    {
     "name": "stdout",
     "output_type": "stream",
     "text": [
      "Train Loss: 1.7058024001121521, Validation Loss: 1.6935350699211233\n",
      "Best Validation Loss: 1.6935350699211233\n",
      "Epoch 17 of 60\n"
     ]
    },
    {
     "name": "stderr",
     "output_type": "stream",
     "text": [
      "100%|█████████████████████████████████████████| 200/200 [00:39<00:00,  5.12it/s]\n",
      "100%|███████████████████████████████████████████| 67/67 [00:05<00:00, 12.67it/s]\n"
     ]
    },
    {
     "name": "stdout",
     "output_type": "stream",
     "text": [
      "Train Loss: 1.7053310865163802, Validation Loss: 1.6950469515216884\n",
      "Best Validation Loss: 1.6935350699211233\n",
      "Epoch 18 of 60\n"
     ]
    },
    {
     "name": "stderr",
     "output_type": "stream",
     "text": [
      "100%|█████████████████████████████████████████| 200/200 [00:39<00:00,  5.03it/s]\n",
      "100%|███████████████████████████████████████████| 67/67 [00:04<00:00, 14.57it/s]\n"
     ]
    },
    {
     "name": "stdout",
     "output_type": "stream",
     "text": [
      "Train Loss: 1.7071687549352645, Validation Loss: 1.6893844177473838\n",
      "Best Validation Loss: 1.6893844177473838\n",
      "Epoch 19 of 60\n"
     ]
    },
    {
     "name": "stderr",
     "output_type": "stream",
     "text": [
      "100%|█████████████████████████████████████████| 200/200 [00:37<00:00,  5.34it/s]\n",
      "100%|███████████████████████████████████████████| 67/67 [00:03<00:00, 17.19it/s]\n"
     ]
    },
    {
     "name": "stdout",
     "output_type": "stream",
     "text": [
      "Train Loss: 1.7005834740400314, Validation Loss: 1.6932970765811295\n",
      "Best Validation Loss: 1.6893844177473838\n",
      "Epoch 20 of 60\n"
     ]
    },
    {
     "name": "stderr",
     "output_type": "stream",
     "text": [
      "100%|█████████████████████████████████████████| 200/200 [00:49<00:00,  4.02it/s]\n",
      "100%|███████████████████████████████████████████| 67/67 [00:03<00:00, 17.12it/s]\n"
     ]
    },
    {
     "name": "stdout",
     "output_type": "stream",
     "text": [
      "Train Loss: 1.7027992993593215, Validation Loss: 1.6919571463741474\n",
      "Best Validation Loss: 1.6893844177473838\n",
      "Epoch 21 of 60\n"
     ]
    },
    {
     "name": "stderr",
     "output_type": "stream",
     "text": [
      "100%|█████████████████████████████████████████| 200/200 [00:35<00:00,  5.65it/s]\n",
      "100%|███████████████████████████████████████████| 67/67 [00:04<00:00, 16.25it/s]\n"
     ]
    },
    {
     "name": "stdout",
     "output_type": "stream",
     "text": [
      "Train Loss: 1.7000295150279998, Validation Loss: 1.6896099599439707\n",
      "Best Validation Loss: 1.6893844177473838\n",
      "Epoch 22 of 60\n"
     ]
    },
    {
     "name": "stderr",
     "output_type": "stream",
     "text": [
      "100%|█████████████████████████████████████████| 200/200 [00:36<00:00,  5.44it/s]\n",
      "100%|███████████████████████████████████████████| 67/67 [00:04<00:00, 15.84it/s]\n"
     ]
    },
    {
     "name": "stdout",
     "output_type": "stream",
     "text": [
      "Train Loss: 1.698541316986084, Validation Loss: 1.6909653998132963\n",
      "Best Validation Loss: 1.6893844177473838\n",
      "Epoch 23 of 60\n"
     ]
    },
    {
     "name": "stderr",
     "output_type": "stream",
     "text": [
      "100%|█████████████████████████████████████████| 200/200 [00:36<00:00,  5.47it/s]\n",
      "100%|███████████████████████████████████████████| 67/67 [00:03<00:00, 17.52it/s]\n"
     ]
    },
    {
     "name": "stdout",
     "output_type": "stream",
     "text": [
      "Train Loss: 1.6979971653223038, Validation Loss: 1.6935038406457474\n",
      "Best Validation Loss: 1.6893844177473838\n",
      "Epoch 24 of 60\n"
     ]
    },
    {
     "name": "stderr",
     "output_type": "stream",
     "text": [
      "100%|█████████████████████████████████████████| 200/200 [00:38<00:00,  5.21it/s]\n",
      "100%|███████████████████████████████████████████| 67/67 [00:03<00:00, 17.72it/s]\n"
     ]
    },
    {
     "name": "stdout",
     "output_type": "stream",
     "text": [
      "Train Loss: 1.6957768076658248, Validation Loss: 1.6960105522355038\n",
      "Best Validation Loss: 1.6893844177473838\n",
      "Epoch 25 of 60\n"
     ]
    },
    {
     "name": "stderr",
     "output_type": "stream",
     "text": [
      "100%|█████████████████████████████████████████| 200/200 [00:35<00:00,  5.63it/s]\n",
      "100%|███████████████████████████████████████████| 67/67 [00:03<00:00, 18.45it/s]\n"
     ]
    },
    {
     "name": "stdout",
     "output_type": "stream",
     "text": [
      "Train Loss: 1.6954306274652482, Validation Loss: 1.6894026105083637\n",
      "Best Validation Loss: 1.6893844177473838\n",
      "Epoch 26 of 60\n"
     ]
    },
    {
     "name": "stderr",
     "output_type": "stream",
     "text": [
      "100%|█████████████████████████████████████████| 200/200 [00:35<00:00,  5.63it/s]\n",
      "100%|███████████████████████████████████████████| 67/67 [00:03<00:00, 18.41it/s]\n"
     ]
    },
    {
     "name": "stdout",
     "output_type": "stream",
     "text": [
      "Train Loss: 1.6914740025997161, Validation Loss: 1.6911283535743826\n",
      "Best Validation Loss: 1.6893844177473838\n",
      "Epoch 27 of 60\n"
     ]
    },
    {
     "name": "stderr",
     "output_type": "stream",
     "text": [
      "100%|█████████████████████████████████████████| 200/200 [00:36<00:00,  5.50it/s]\n",
      "100%|███████████████████████████████████████████| 67/67 [00:03<00:00, 17.16it/s]\n"
     ]
    },
    {
     "name": "stdout",
     "output_type": "stream",
     "text": [
      "Train Loss: 1.6943006557226181, Validation Loss: 1.6888213086484083\n",
      "Best Validation Loss: 1.6888213086484083\n",
      "Epoch 28 of 60\n"
     ]
    },
    {
     "name": "stderr",
     "output_type": "stream",
     "text": [
      "100%|█████████████████████████████████████████| 200/200 [00:36<00:00,  5.55it/s]\n",
      "100%|███████████████████████████████████████████| 67/67 [00:03<00:00, 18.60it/s]\n"
     ]
    },
    {
     "name": "stdout",
     "output_type": "stream",
     "text": [
      "Train Loss: 1.689068278670311, Validation Loss: 1.687927802996849\n",
      "Best Validation Loss: 1.687927802996849\n",
      "Epoch 29 of 60\n"
     ]
    },
    {
     "name": "stderr",
     "output_type": "stream",
     "text": [
      "100%|█████████████████████████████████████████| 200/200 [00:36<00:00,  5.42it/s]\n",
      "100%|███████████████████████████████████████████| 67/67 [00:03<00:00, 18.15it/s]\n"
     ]
    },
    {
     "name": "stdout",
     "output_type": "stream",
     "text": [
      "Train Loss: 1.694687655568123, Validation Loss: 1.6883672458022387\n",
      "Best Validation Loss: 1.687927802996849\n",
      "Epoch 30 of 60\n"
     ]
    },
    {
     "name": "stderr",
     "output_type": "stream",
     "text": [
      "100%|█████████████████████████████████████████| 200/200 [00:36<00:00,  5.50it/s]\n",
      "100%|███████████████████████████████████████████| 67/67 [00:03<00:00, 17.73it/s]\n"
     ]
    },
    {
     "name": "stdout",
     "output_type": "stream",
     "text": [
      "Train Loss: 1.6901304161548614, Validation Loss: 1.6891764562521407\n",
      "Best Validation Loss: 1.687927802996849\n",
      "Epoch 31 of 60\n"
     ]
    },
    {
     "name": "stderr",
     "output_type": "stream",
     "text": [
      "100%|█████████████████████████████████████████| 200/200 [00:35<00:00,  5.61it/s]\n",
      "100%|███████████████████████████████████████████| 67/67 [00:03<00:00, 17.43it/s]\n"
     ]
    },
    {
     "name": "stdout",
     "output_type": "stream",
     "text": [
      "Train Loss: 1.6919553446769715, Validation Loss: 1.6918704865583734\n",
      "Best Validation Loss: 1.687927802996849\n",
      "Epoch 32 of 60\n"
     ]
    },
    {
     "name": "stderr",
     "output_type": "stream",
     "text": [
      "100%|█████████████████████████████████████████| 200/200 [00:36<00:00,  5.44it/s]\n",
      "100%|███████████████████████████████████████████| 67/67 [00:03<00:00, 18.57it/s]\n"
     ]
    },
    {
     "name": "stdout",
     "output_type": "stream",
     "text": [
      "Train Loss: 1.6908369451761245, Validation Loss: 1.6849502574152022\n",
      "Best Validation Loss: 1.6849502574152022\n",
      "Epoch 33 of 60\n"
     ]
    },
    {
     "name": "stderr",
     "output_type": "stream",
     "text": [
      "100%|█████████████████████████████████████████| 200/200 [00:36<00:00,  5.48it/s]\n",
      "100%|███████████████████████████████████████████| 67/67 [00:03<00:00, 18.05it/s]\n"
     ]
    },
    {
     "name": "stdout",
     "output_type": "stream",
     "text": [
      "Train Loss: 1.684299175143242, Validation Loss: 1.6898001592550704\n",
      "Best Validation Loss: 1.6849502574152022\n",
      "Epoch 34 of 60\n"
     ]
    },
    {
     "name": "stderr",
     "output_type": "stream",
     "text": [
      "100%|█████████████████████████████████████████| 200/200 [00:37<00:00,  5.27it/s]\n",
      "100%|███████████████████████████████████████████| 67/67 [00:03<00:00, 16.99it/s]\n"
     ]
    },
    {
     "name": "stdout",
     "output_type": "stream",
     "text": [
      "Train Loss: 1.684559189081192, Validation Loss: 1.689275807409144\n",
      "Best Validation Loss: 1.6849502574152022\n",
      "Epoch 35 of 60\n"
     ]
    },
    {
     "name": "stderr",
     "output_type": "stream",
     "text": [
      "100%|█████████████████████████████████████████| 200/200 [00:49<00:00,  4.03it/s]\n",
      "100%|███████████████████████████████████████████| 67/67 [00:03<00:00, 16.96it/s]\n"
     ]
    },
    {
     "name": "stdout",
     "output_type": "stream",
     "text": [
      "Train Loss: 1.6822580140829086, Validation Loss: 1.6900139869149051\n",
      "Best Validation Loss: 1.6849502574152022\n",
      "Epoch 36 of 60\n"
     ]
    },
    {
     "name": "stderr",
     "output_type": "stream",
     "text": [
      "100%|█████████████████████████████████████████| 200/200 [00:40<00:00,  4.95it/s]\n",
      "100%|███████████████████████████████████████████| 67/67 [00:03<00:00, 17.98it/s]\n"
     ]
    },
    {
     "name": "stdout",
     "output_type": "stream",
     "text": [
      "Train Loss: 1.6841991478204728, Validation Loss: 1.6875533292542642\n",
      "Best Validation Loss: 1.6849502574152022\n",
      "Epoch 37 of 60\n"
     ]
    },
    {
     "name": "stderr",
     "output_type": "stream",
     "text": [
      "100%|█████████████████████████████████████████| 200/200 [00:49<00:00,  4.08it/s]\n",
      "100%|███████████████████████████████████████████| 67/67 [00:05<00:00, 13.04it/s]\n"
     ]
    },
    {
     "name": "stdout",
     "output_type": "stream",
     "text": [
      "Train Loss: 1.682016697525978, Validation Loss: 1.6898968895869468\n",
      "Best Validation Loss: 1.6849502574152022\n",
      "Epoch 38 of 60\n"
     ]
    },
    {
     "name": "stderr",
     "output_type": "stream",
     "text": [
      "100%|█████████████████████████████████████████| 200/200 [00:45<00:00,  4.43it/s]\n",
      "100%|███████████████████████████████████████████| 67/67 [00:03<00:00, 17.51it/s]\n"
     ]
    },
    {
     "name": "stdout",
     "output_type": "stream",
     "text": [
      "Train Loss: 1.6843857836723328, Validation Loss: 1.6915542652357871\n",
      "Best Validation Loss: 1.6849502574152022\n",
      "Epoch 39 of 60\n"
     ]
    },
    {
     "name": "stderr",
     "output_type": "stream",
     "text": [
      "100%|█████████████████████████████████████████| 200/200 [00:37<00:00,  5.37it/s]\n",
      "100%|███████████████████████████████████████████| 67/67 [00:03<00:00, 17.77it/s]\n"
     ]
    },
    {
     "name": "stdout",
     "output_type": "stream",
     "text": [
      "Train Loss: 1.683637377023697, Validation Loss: 1.6886790225754922\n",
      "Best Validation Loss: 1.6849502574152022\n",
      "Epoch 40 of 60\n"
     ]
    },
    {
     "name": "stderr",
     "output_type": "stream",
     "text": [
      "100%|█████████████████████████████████████████| 200/200 [00:37<00:00,  5.34it/s]\n",
      "100%|███████████████████████████████████████████| 67/67 [00:03<00:00, 17.96it/s]\n"
     ]
    },
    {
     "name": "stdout",
     "output_type": "stream",
     "text": [
      "Train Loss: 1.6821483087539673, Validation Loss: 1.6857083662232357\n",
      "Best Validation Loss: 1.6849502574152022\n",
      "Epoch 41 of 60\n"
     ]
    },
    {
     "name": "stderr",
     "output_type": "stream",
     "text": [
      "100%|█████████████████████████████████████████| 200/200 [00:41<00:00,  4.81it/s]\n",
      "100%|███████████████████████████████████████████| 67/67 [00:03<00:00, 17.94it/s]\n"
     ]
    },
    {
     "name": "stdout",
     "output_type": "stream",
     "text": [
      "Train Loss: 1.680321426987648, Validation Loss: 1.6850688635413327\n",
      "Best Validation Loss: 1.6849502574152022\n",
      "Epoch 42 of 60\n"
     ]
    },
    {
     "name": "stderr",
     "output_type": "stream",
     "text": [
      "100%|█████████████████████████████████████████| 200/200 [00:43<00:00,  4.62it/s]\n",
      "100%|███████████████████████████████████████████| 67/67 [00:04<00:00, 15.96it/s]\n"
     ]
    },
    {
     "name": "stdout",
     "output_type": "stream",
     "text": [
      "Train Loss: 1.6776107501983644, Validation Loss: 1.6889641427282076\n",
      "Best Validation Loss: 1.6849502574152022\n",
      "Epoch 43 of 60\n"
     ]
    },
    {
     "name": "stderr",
     "output_type": "stream",
     "text": [
      "100%|█████████████████████████████████████████| 200/200 [00:39<00:00,  5.11it/s]\n",
      "100%|███████████████████████████████████████████| 67/67 [00:04<00:00, 14.33it/s]\n"
     ]
    },
    {
     "name": "stdout",
     "output_type": "stream",
     "text": [
      "Train Loss: 1.6790087991952896, Validation Loss: 1.6867515631576082\n",
      "Best Validation Loss: 1.6849502574152022\n",
      "Epoch 44 of 60\n"
     ]
    },
    {
     "name": "stderr",
     "output_type": "stream",
     "text": [
      "100%|█████████████████████████████████████████| 200/200 [00:39<00:00,  5.07it/s]\n",
      "100%|███████████████████████████████████████████| 67/67 [00:03<00:00, 17.94it/s]\n"
     ]
    },
    {
     "name": "stdout",
     "output_type": "stream",
     "text": [
      "Train Loss: 1.6771947902441025, Validation Loss: 1.6888192251547058\n",
      "Best Validation Loss: 1.6849502574152022\n",
      "Epoch 45 of 60\n"
     ]
    },
    {
     "name": "stderr",
     "output_type": "stream",
     "text": [
      "100%|█████████████████████████████████████████| 200/200 [00:38<00:00,  5.24it/s]\n",
      "100%|███████████████████████████████████████████| 67/67 [00:03<00:00, 18.77it/s]\n"
     ]
    },
    {
     "name": "stdout",
     "output_type": "stream",
     "text": [
      "Train Loss: 1.6748548996448518, Validation Loss: 1.6892877158833974\n",
      "Best Validation Loss: 1.6849502574152022\n",
      "Epoch 46 of 60\n"
     ]
    },
    {
     "name": "stderr",
     "output_type": "stream",
     "text": [
      "100%|█████████████████████████████████████████| 200/200 [00:42<00:00,  4.71it/s]\n",
      "100%|███████████████████████████████████████████| 67/67 [00:03<00:00, 18.61it/s]\n"
     ]
    },
    {
     "name": "stdout",
     "output_type": "stream",
     "text": [
      "Train Loss: 1.6760823428630829, Validation Loss: 1.6893655417570428\n",
      "Best Validation Loss: 1.6849502574152022\n",
      "Epoch 47 of 60\n"
     ]
    },
    {
     "name": "stderr",
     "output_type": "stream",
     "text": [
      "100%|█████████████████████████████████████████| 200/200 [00:35<00:00,  5.68it/s]\n",
      "100%|███████████████████████████████████████████| 67/67 [00:03<00:00, 18.77it/s]\n"
     ]
    },
    {
     "name": "stdout",
     "output_type": "stream",
     "text": [
      "Train Loss: 1.6785721546411514, Validation Loss: 1.6865858444527013\n",
      "Best Validation Loss: 1.6849502574152022\n",
      "Epoch 48 of 60\n"
     ]
    },
    {
     "name": "stderr",
     "output_type": "stream",
     "text": [
      "100%|█████████████████████████████████████████| 200/200 [00:34<00:00,  5.74it/s]\n",
      "100%|███████████████████████████████████████████| 67/67 [00:03<00:00, 18.90it/s]\n"
     ]
    },
    {
     "name": "stdout",
     "output_type": "stream",
     "text": [
      "Train Loss: 1.6745558786392212, Validation Loss: 1.6894937931601681\n",
      "Best Validation Loss: 1.6849502574152022\n",
      "Epoch 49 of 60\n"
     ]
    },
    {
     "name": "stderr",
     "output_type": "stream",
     "text": [
      "100%|█████████████████████████████████████████| 200/200 [00:35<00:00,  5.68it/s]\n",
      "100%|███████████████████████████████████████████| 67/67 [00:03<00:00, 18.50it/s]\n"
     ]
    },
    {
     "name": "stdout",
     "output_type": "stream",
     "text": [
      "Train Loss: 1.676463161110878, Validation Loss: 1.6893744059463045\n",
      "Best Validation Loss: 1.6849502574152022\n",
      "Epoch 50 of 60\n"
     ]
    },
    {
     "name": "stderr",
     "output_type": "stream",
     "text": [
      "100%|█████████████████████████████████████████| 200/200 [00:38<00:00,  5.22it/s]\n",
      "100%|███████████████████████████████████████████| 67/67 [00:03<00:00, 17.36it/s]\n"
     ]
    },
    {
     "name": "stdout",
     "output_type": "stream",
     "text": [
      "Train Loss: 1.6722074061632157, Validation Loss: 1.688263288184778\n",
      "Best Validation Loss: 1.6849502574152022\n",
      "Epoch 51 of 60\n"
     ]
    },
    {
     "name": "stderr",
     "output_type": "stream",
     "text": [
      "100%|█████████████████████████████████████████| 200/200 [00:35<00:00,  5.56it/s]\n",
      "100%|███████████████████████████████████████████| 67/67 [00:03<00:00, 16.96it/s]\n"
     ]
    },
    {
     "name": "stdout",
     "output_type": "stream",
     "text": [
      "Train Loss: 1.674909588098526, Validation Loss: 1.693039630776021\n",
      "Best Validation Loss: 1.6849502574152022\n",
      "Epoch 52 of 60\n"
     ]
    },
    {
     "name": "stderr",
     "output_type": "stream",
     "text": [
      "100%|█████████████████████████████████████████| 200/200 [00:39<00:00,  5.11it/s]\n",
      "100%|███████████████████████████████████████████| 67/67 [00:04<00:00, 15.97it/s]\n"
     ]
    },
    {
     "name": "stdout",
     "output_type": "stream",
     "text": [
      "Train Loss: 1.6730729734897614, Validation Loss: 1.6873869593463726\n",
      "Best Validation Loss: 1.6849502574152022\n",
      "Epoch 53 of 60\n"
     ]
    },
    {
     "name": "stderr",
     "output_type": "stream",
     "text": [
      "100%|█████████████████████████████████████████| 200/200 [00:38<00:00,  5.19it/s]\n",
      "100%|███████████████████████████████████████████| 67/67 [00:03<00:00, 17.97it/s]\n"
     ]
    },
    {
     "name": "stdout",
     "output_type": "stream",
     "text": [
      "Train Loss: 1.6741578841209412, Validation Loss: 1.690014011824309\n",
      "Best Validation Loss: 1.6849502574152022\n",
      "Epoch 54 of 60\n"
     ]
    },
    {
     "name": "stderr",
     "output_type": "stream",
     "text": [
      "100%|█████████████████████████████████████████| 200/200 [00:35<00:00,  5.66it/s]\n",
      "100%|███████████████████████████████████████████| 67/67 [00:03<00:00, 18.31it/s]\n"
     ]
    },
    {
     "name": "stdout",
     "output_type": "stream",
     "text": [
      "Train Loss: 1.6705722886323928, Validation Loss: 1.6892647298414316\n",
      "Best Validation Loss: 1.6849502574152022\n",
      "Epoch 55 of 60\n"
     ]
    },
    {
     "name": "stderr",
     "output_type": "stream",
     "text": [
      "100%|█████████████████████████████████████████| 200/200 [00:35<00:00,  5.70it/s]\n",
      "100%|███████████████████████████████████████████| 67/67 [00:03<00:00, 17.17it/s]\n"
     ]
    },
    {
     "name": "stdout",
     "output_type": "stream",
     "text": [
      "Train Loss: 1.66781458735466, Validation Loss: 1.6914259568968815\n",
      "Best Validation Loss: 1.6849502574152022\n",
      "Epoch 56 of 60\n"
     ]
    },
    {
     "name": "stderr",
     "output_type": "stream",
     "text": [
      "100%|█████████████████████████████████████████| 200/200 [00:35<00:00,  5.61it/s]\n",
      "100%|███████████████████████████████████████████| 67/67 [00:03<00:00, 18.48it/s]\n"
     ]
    },
    {
     "name": "stdout",
     "output_type": "stream",
     "text": [
      "Train Loss: 1.6669416743516923, Validation Loss: 1.688833599659934\n",
      "Best Validation Loss: 1.6849502574152022\n",
      "Epoch 57 of 60\n"
     ]
    },
    {
     "name": "stderr",
     "output_type": "stream",
     "text": [
      "100%|█████████████████████████████████████████| 200/200 [00:36<00:00,  5.54it/s]\n",
      "100%|███████████████████████████████████████████| 67/67 [00:03<00:00, 17.95it/s]\n"
     ]
    },
    {
     "name": "stdout",
     "output_type": "stream",
     "text": [
      "Train Loss: 1.6661899358034133, Validation Loss: 1.691075200465188\n",
      "Best Validation Loss: 1.6849502574152022\n",
      "Epoch 58 of 60\n"
     ]
    },
    {
     "name": "stderr",
     "output_type": "stream",
     "text": [
      "100%|█████████████████████████████████████████| 200/200 [00:34<00:00,  5.78it/s]\n",
      "100%|███████████████████████████████████████████| 67/67 [00:03<00:00, 18.45it/s]\n"
     ]
    },
    {
     "name": "stdout",
     "output_type": "stream",
     "text": [
      "Train Loss: 1.6685884040594101, Validation Loss: 1.689709768366458\n",
      "Best Validation Loss: 1.6849502574152022\n",
      "Epoch 59 of 60\n"
     ]
    },
    {
     "name": "stderr",
     "output_type": "stream",
     "text": [
      "100%|█████████████████████████████████████████| 200/200 [00:35<00:00,  5.60it/s]\n",
      "100%|███████████████████████████████████████████| 67/67 [00:03<00:00, 18.69it/s]\n"
     ]
    },
    {
     "name": "stdout",
     "output_type": "stream",
     "text": [
      "Train Loss: 1.6646523451805115, Validation Loss: 1.6880672582939489\n",
      "Best Validation Loss: 1.6849502574152022\n",
      "Epoch 60 of 60\n"
     ]
    },
    {
     "name": "stderr",
     "output_type": "stream",
     "text": [
      "100%|█████████████████████████████████████████| 200/200 [00:35<00:00,  5.58it/s]\n",
      "100%|███████████████████████████████████████████| 67/67 [00:03<00:00, 18.74it/s]\n"
     ]
    },
    {
     "name": "stdout",
     "output_type": "stream",
     "text": [
      "Train Loss: 1.6686568373441697, Validation Loss: 1.6935405766786034\n",
      "Best Validation Loss: 1.6849502574152022\n"
     ]
    },
    {
     "data": {
      "image/png": "[encoded data removed]",
      "text/plain": [
       "<Figure size 1000x500 with 1 Axes>"
      ]
     },
     "metadata": {},
     "output_type": "display_data"
    }
   ],
   "source": [
    "train(train_loader, valid_loader, model, criterion, optimizer,\n",
    "      device, num_epochs, model_path)"
   ]
  },
  {
   "cell_type": "markdown",
   "id": "7828e868",
   "metadata": {},
   "source": [
    "### Model testing & Evaluation metrics"
   ]
  },
  {
   "cell_type": "code",
   "execution_count": 347,
   "id": "fdab5b90",
   "metadata": {},
   "outputs": [
    {
     "name": "stderr",
     "output_type": "stream",
     "text": [
      "100%|███████████████████████████████████████████| 67/67 [00:03<00:00, 17.04it/s]\n"
     ]
    },
    {
     "name": "stdout",
     "output_type": "stream",
     "text": [
      "Test Loss: 1.6931395815379584\n",
      "Confusion Matrix:\n",
      "[[390 114 339  53  24   0 151]\n",
      " [208 289 135  24  26   0 102]\n",
      " [183  48 955  57  57   0 402]\n",
      " [205  54 475 123  57   0 373]\n",
      " [ 90  31 253  65 169   0 437]\n",
      " [ 66  26 169  23  10   0 155]\n",
      " [114  48 480  85 122   0 813]]\n",
      "Precision per class: [0.3105095541401274, 0.4737704918032787, 0.3403421240199572, 0.28604651162790695, 0.3634408602150538, 0.0]\n",
      "Recall per class: [0.3641456582633053, 0.36862244897959184, 0.5611045828437132, 0.09557109557109557, 0.16172248803827752, 0.0]\n",
      "F1 score per class: [0.335195530726257, 0.4146341463414634, 0.42369121561668144, 0.1432731508444962, 0.223841059602649, 0.0]\n"
     ]
    }
   ],
   "source": [
    "test(test_loader, model, criterion, device, 6)"
   ]
  },
  {
   "cell_type": "markdown",
   "id": "cf6c3ae8",
   "metadata": {},
   "source": [
    "### After evaluating the model performance, the second dataset will be used, following the whole process"
   ]
  },
  {
   "cell_type": "markdown",
   "id": "670cb0e8",
   "metadata": {},
   "source": [
    "## Process glove embeddings\n",
    "---"
   ]
  },
  {
   "cell_type": "code",
   "execution_count": 348,
   "id": "42866252",
   "metadata": {},
   "outputs": [],
   "source": [
    "with open(glove_vector_path, \"rt\") as f:\n",
    "    emb = f.readlines()"
   ]
  },
  {
   "cell_type": "code",
   "execution_count": 349,
   "id": "1fea6a8c",
   "metadata": {},
   "outputs": [],
   "source": [
    "vocabulary, embeddings = [], []\n",
    "\n",
    "for item in emb:\n",
    "    vocabulary.append(item.split()[0])\n",
    "    embeddings.append(item.split()[1:])"
   ]
  },
  {
   "cell_type": "code",
   "execution_count": 350,
   "id": "3b2f8a0e",
   "metadata": {},
   "outputs": [],
   "source": [
    "embeddings = np.array(embeddings, dtype=np.float32)"
   ]
  },
  {
   "cell_type": "code",
   "execution_count": 351,
   "id": "9f449236",
   "metadata": {},
   "outputs": [],
   "source": [
    "vocabulary = [\"<pad>\", \"<unk>\"] + vocabulary"
   ]
  },
  {
   "cell_type": "code",
   "execution_count": 352,
   "id": "7418905e",
   "metadata": {},
   "outputs": [],
   "source": [
    "embeddings = np.vstack([np.ones(50, dtype=np.float32), \n",
    "                        np.mean(embeddings, axis=0),\n",
    "                        embeddings])"
   ]
  },
  {
   "cell_type": "code",
   "execution_count": 353,
   "id": "e2b7fe0e",
   "metadata": {},
   "outputs": [],
   "source": [
    "save_file(embeddings_path, embeddings)\n",
    "save_file(vocabulary_path, vocabulary)"
   ]
  },
  {
   "cell_type": "markdown",
   "id": "7e86fa51",
   "metadata": {},
   "source": [
    "## Process text data\n",
    "---"
   ]
  },
  {
   "cell_type": "code",
   "execution_count": 354,
   "id": "9be46ec1",
   "metadata": {},
   "outputs": [],
   "source": [
    "data = df_final"
   ]
  },
  {
   "cell_type": "code",
   "execution_count": 355,
   "id": "37daedd7",
   "metadata": {},
   "outputs": [],
   "source": [
    "data.dropna(subset=[text_col_name_2], inplace=True) #Drop NA values"
   ]
  },
  {
   "cell_type": "markdown",
   "id": "60cd987f",
   "metadata": {},
   "source": [
    "### Encode labels\n"
   ]
  },
  {
   "cell_type": "code",
   "execution_count": 356,
   "id": "b0a674a6",
   "metadata": {},
   "outputs": [],
   "source": [
    "label_encoder = LabelEncoder()\n",
    "label_encoder.fit(data[label_col_2])\n",
    "labels = label_encoder.transform(data[label_col_2])"
   ]
  },
  {
   "cell_type": "code",
   "execution_count": 357,
   "id": "5fe52b71",
   "metadata": {},
   "outputs": [],
   "source": [
    "save_file(labels_path, labels)\n",
    "save_file(label_encoder_path, label_encoder)"
   ]
  },
  {
   "cell_type": "code",
   "execution_count": 358,
   "id": "0d4a0687",
   "metadata": {},
   "outputs": [
    {
     "name": "stdout",
     "output_type": "stream",
     "text": [
      "[4 4 0 ... 2 2 1]\n"
     ]
    }
   ],
   "source": [
    "print(labels)"
   ]
  },
  {
   "cell_type": "markdown",
   "id": "9db4d83c",
   "metadata": {},
   "source": [
    "### Process the text column\n"
   ]
  },
  {
   "cell_type": "code",
   "execution_count": 359,
   "id": "b61a02e4",
   "metadata": {},
   "outputs": [],
   "source": [
    "input_text = list(data[text_col_name_2])"
   ]
  },
  {
   "cell_type": "code",
   "execution_count": 360,
   "id": "ae43ac67",
   "metadata": {},
   "outputs": [
    {
     "data": {
      "text/plain": [
       "20000"
      ]
     },
     "execution_count": 360,
     "metadata": {},
     "output_type": "execute_result"
    }
   ],
   "source": [
    "len(input_text)"
   ]
  },
  {
   "cell_type": "markdown",
   "id": "d8d696a0",
   "metadata": {},
   "source": [
    "### Convert text to lower case"
   ]
  },
  {
   "cell_type": "code",
   "execution_count": 361,
   "id": "d2e015be",
   "metadata": {},
   "outputs": [
    {
     "name": "stderr",
     "output_type": "stream",
     "text": [
      "100%|█████████████████████████████████| 20000/20000 [00:00<00:00, 144492.91it/s]\n"
     ]
    }
   ],
   "source": [
    "input_text = [i.lower() for i in tqdm(input_text)]"
   ]
  },
  {
   "cell_type": "markdown",
   "id": "dd38bd96",
   "metadata": {},
   "source": [
    "### Remove punctuations except apostrophe"
   ]
  },
  {
   "cell_type": "code",
   "execution_count": 362,
   "id": "2f3eeb1e",
   "metadata": {},
   "outputs": [
    {
     "name": "stderr",
     "output_type": "stream",
     "text": [
      "100%|█████████████████████████████████| 20000/20000 [00:00<00:00, 176569.19it/s]\n"
     ]
    }
   ],
   "source": [
    "input_text = [re.sub(r\"[^\\w\\d'\\s]+\", \" \", i) \n",
    "              for i in tqdm(input_text)]"
   ]
  },
  {
   "cell_type": "markdown",
   "id": "64f9fd3e",
   "metadata": {},
   "source": [
    "### Remove digits\n"
   ]
  },
  {
   "cell_type": "code",
   "execution_count": 363,
   "id": "3f625a2d",
   "metadata": {},
   "outputs": [
    {
     "name": "stderr",
     "output_type": "stream",
     "text": [
      "100%|█████████████████████████████████| 20000/20000 [00:00<00:00, 243332.85it/s]\n"
     ]
    }
   ],
   "source": [
    "input_text = [re.sub(\"\\d+\", \"\", i) for i in tqdm(input_text)]"
   ]
  },
  {
   "cell_type": "markdown",
   "id": "466caf04",
   "metadata": {},
   "source": [
    "### Remove more than one consecutive instance of 'x'\n"
   ]
  },
  {
   "cell_type": "code",
   "execution_count": 364,
   "id": "d99c90f0",
   "metadata": {},
   "outputs": [
    {
     "name": "stderr",
     "output_type": "stream",
     "text": [
      "100%|█████████████████████████████████| 20000/20000 [00:00<00:00, 302178.93it/s]\n"
     ]
    }
   ],
   "source": [
    "input_text = [re.sub(r'[x]{2,}', \"\", i) for i in tqdm(input_text)]"
   ]
  },
  {
   "cell_type": "markdown",
   "id": "60e516c0",
   "metadata": {},
   "source": [
    "### Remove multiple spaces with single space"
   ]
  },
  {
   "cell_type": "code",
   "execution_count": 365,
   "id": "291594dd",
   "metadata": {},
   "outputs": [
    {
     "name": "stderr",
     "output_type": "stream",
     "text": [
      "100%|█████████████████████████████████| 20000/20000 [00:00<00:00, 124627.77it/s]\n"
     ]
    }
   ],
   "source": [
    "input_text = [re.sub(' +', ' ', i) for i in tqdm(input_text)]"
   ]
  },
  {
   "cell_type": "markdown",
   "id": "08c9c585",
   "metadata": {},
   "source": [
    "### Tokenize the text\n"
   ]
  },
  {
   "cell_type": "code",
   "execution_count": 366,
   "id": "42266dec",
   "metadata": {},
   "outputs": [
    {
     "name": "stderr",
     "output_type": "stream",
     "text": [
      "100%|███████████████████████████████████| 20000/20000 [00:03<00:00, 5173.67it/s]\n"
     ]
    }
   ],
   "source": [
    "tokens = [word_tokenize(t) for t in tqdm(input_text)]"
   ]
  },
  {
   "cell_type": "markdown",
   "id": "b16f12e8",
   "metadata": {},
   "source": [
    "### Take the first 20 tokens in each complaint text\n"
   ]
  },
  {
   "cell_type": "code",
   "execution_count": 367,
   "id": "8e7eb830",
   "metadata": {},
   "outputs": [
    {
     "name": "stdout",
     "output_type": "stream",
     "text": [
      "['i', 'can', 'go', 'from', 'feeling', 'so', 'hopeless', 'to', 'so', 'damned', 'hopeful', 'just', 'from', 'being', 'around', 'someone', 'who', 'cares', 'and', 'is', 'awake']\n"
     ]
    }
   ],
   "source": [
    "print(tokens[1])"
   ]
  },
  {
   "cell_type": "code",
   "execution_count": 368,
   "id": "382f0b73",
   "metadata": {},
   "outputs": [
    {
     "name": "stderr",
     "output_type": "stream",
     "text": [
      "100%|█████████████████████████████████| 20000/20000 [00:00<00:00, 215307.82it/s]\n"
     ]
    }
   ],
   "source": [
    "tokens = [i[:20] if len(i) > 19 else ['<pad>'] * (20 - len(i)) + i \n",
    "          for i in tqdm(tokens)]"
   ]
  },
  {
   "cell_type": "markdown",
   "id": "bd2ed88e",
   "metadata": {},
   "source": [
    "### Convert tokens to integer indices from vocabulary\n"
   ]
  },
  {
   "cell_type": "code",
   "execution_count": 369,
   "id": "ce07fb54",
   "metadata": {},
   "outputs": [],
   "source": [
    "def token_index(tokens, vocabulary, missing='<unk>'):\n",
    "    idx_token = []\n",
    "    for text in tqdm(tokens):\n",
    "        idx_text = []\n",
    "        for token in text:\n",
    "            if token in vocabulary:\n",
    "                idx_text.append(vocabulary.index(token))\n",
    "            else:\n",
    "                idx_text.append(vocabulary.index(missing))\n",
    "        idx_token.append(idx_text)\n",
    "    return idx_token"
   ]
  },
  {
   "cell_type": "code",
   "execution_count": 370,
   "id": "c103800d",
   "metadata": {},
   "outputs": [
    {
     "name": "stderr",
     "output_type": "stream",
     "text": [
      "100%|████████████████████████████████████| 20000/20000 [02:58<00:00, 112.01it/s]\n"
     ]
    }
   ],
   "source": [
    "tokens = token_index(tokens, vocabulary)"
   ]
  },
  {
   "cell_type": "markdown",
   "id": "e9f2dc69",
   "metadata": {},
   "source": [
    "### Save the tokens"
   ]
  },
  {
   "cell_type": "code",
   "execution_count": 371,
   "id": "17979dac",
   "metadata": {},
   "outputs": [],
   "source": [
    "save_file(tokens_path, tokens)"
   ]
  },
  {
   "cell_type": "markdown",
   "id": "fa9faa01",
   "metadata": {},
   "source": [
    "## Create attention model\n",
    "---"
   ]
  },
  {
   "cell_type": "code",
   "execution_count": 372,
   "id": "09bfe9d6",
   "metadata": {},
   "outputs": [],
   "source": [
    "class AttentionModel(nn.Module):\n",
    "\n",
    "    def __init__(self, vec_len, seq_len, n_classes):\n",
    "        super(AttentionModel, self).__init__()\n",
    "        self.vec_len = vec_len\n",
    "        self.seq_len = seq_len\n",
    "        self.attn_weights = torch.cat([torch.tensor([[0.]]),\n",
    "                                       torch.randn(vec_len, 1) /\n",
    "                                       torch.sqrt(torch.tensor(vec_len))])\n",
    "        self.attn_weights.requires_grad = True\n",
    "        self.attn_weights = nn.Parameter(self.attn_weights)\n",
    "        self.activation = nn.ReLU()\n",
    "        self.softmax = nn.Softmax(dim=1)\n",
    "        self.dropout = nn.Dropout(0.5)\n",
    "        self.norm1 = nn.LayerNorm((vec_len + 1,))\n",
    "        \n",
    "        self.linear1 = nn.Linear(vec_len + 1, 5000)\n",
    "        self.norm2 = nn.LayerNorm((5000,))\n",
    "        self.linear2 = nn.Linear(5000, 2000)\n",
    "        self.norm3 = nn.LayerNorm((2000,))\n",
    "        self.linear3 = nn.Linear(2000, 1000)\n",
    "        self.norm4 = nn.LayerNorm((1000,))\n",
    "        self.linear4 = nn.Linear(1000, n_classes)\n",
    "\n",
    "    def forward(self, input_data):\n",
    "        hidden = torch.matmul(input_data, self.attn_weights)\n",
    "        hidden = self.activation(hidden)\n",
    "        attn = self.softmax(hidden)\n",
    "        attn = attn.repeat(1, 1, self.vec_len + 1).reshape(attn.shape[0],\n",
    "                                                           self.seq_len,\n",
    "                                                           self.vec_len + 1)\n",
    "        attn_output = input_data * attn\n",
    "        attn_output = torch.sum(attn_output, axis=1)\n",
    "        \n",
    "        attn_output = self.norm1(attn_output)\n",
    "        attn_output = self.dropout(attn_output)\n",
    "        \n",
    "        hidden_output = self.linear1(attn_output)\n",
    "        hidden_output = self.activation(hidden_output)\n",
    "        \n",
    "        hidden_output = self.norm2(hidden_output)\n",
    "        hidden_output = self.dropout(hidden_output)\n",
    "        \n",
    "        hidden_output = self.linear2(hidden_output)\n",
    "        hidden_output = self.activation(hidden_output)\n",
    "        \n",
    "        hidden_output = self.norm3(hidden_output)\n",
    "        hidden_output = self.dropout(hidden_output)\n",
    "        \n",
    "        hidden_output = self.linear3(hidden_output)\n",
    "        hidden_output = self.activation(hidden_output)\n",
    "        \n",
    "        hidden_output = self.norm4(hidden_output)\n",
    "        output = self.linear4(hidden_output)\n",
    "        \n",
    "        return output"
   ]
  },
  {
   "cell_type": "markdown",
   "id": "384b2ddc",
   "metadata": {},
   "source": [
    "## Create PyTorch dataset\n",
    "---"
   ]
  },
  {
   "cell_type": "code",
   "execution_count": 373,
   "id": "e73ddeaf",
   "metadata": {},
   "outputs": [],
   "source": [
    "class TextDataset(torch.utils.data.Dataset):\n",
    "\n",
    "    def __init__(self, tokens, embeddings, labels):\n",
    "        self.tokens = tokens\n",
    "        self.embeddings = embeddings\n",
    "        self.labels = labels\n",
    "\n",
    "    def __len__(self):\n",
    "        return len(self.tokens)\n",
    "\n",
    "    def __getitem__(self, idx):\n",
    "        emb = torch.tensor(self.embeddings[self.tokens[idx], :])\n",
    "        input_ = torch.cat((torch.ones(emb.shape[0],1), emb), dim=1)\n",
    "        return torch.tensor(self.labels[idx]), input_"
   ]
  },
  {
   "cell_type": "markdown",
   "id": "e69a524b",
   "metadata": {},
   "source": [
    "### Function to train the model"
   ]
  },
  {
   "cell_type": "code",
   "execution_count": 374,
   "id": "8517898a",
   "metadata": {},
   "outputs": [],
   "source": [
    "def train(train_loader, valid_loader, model, criterion, optimizer, \n",
    "          device, num_epochs, model_path):\n",
    "    best_loss = 1e8\n",
    "    epoch_train_losses = []\n",
    "    epoch_valid_losses = []\n",
    "\n",
    "    for i in range(num_epochs):\n",
    "        print(f\"Epoch {i+1} of {num_epochs}\")\n",
    "        valid_loss, train_loss = [], []\n",
    "        model.train()\n",
    "        # Train loop\n",
    "        for batch_labels, batch_data in tqdm(train_loader):\n",
    "            batch_labels = batch_labels.to(device)\n",
    "            batch_data = batch_data.to(device)\n",
    "            batch_output = model(batch_data)\n",
    "            batch_output = torch.squeeze(batch_output)\n",
    "            loss = criterion(batch_output, batch_labels)\n",
    "            train_loss.append(loss.item())\n",
    "            optimizer.zero_grad()\n",
    "            loss.backward()\n",
    "            optimizer.step()\n",
    "\n",
    "        model.eval()\n",
    "        # Validation loop\n",
    "        for batch_labels, batch_data in tqdm(valid_loader):\n",
    "            batch_labels = batch_labels.to(device)\n",
    "            batch_data = batch_data.to(device)\n",
    "            batch_output = model(batch_data)\n",
    "            batch_output = torch.squeeze(batch_output)\n",
    "            loss = criterion(batch_output, batch_labels)\n",
    "            valid_loss.append(loss.item())\n",
    "\n",
    "        t_loss = np.mean(train_loss)\n",
    "        v_loss = np.mean(valid_loss)\n",
    "        epoch_train_losses.append(t_loss)\n",
    "        epoch_valid_losses.append(v_loss)\n",
    "\n",
    "        print(f\"Train Loss: {t_loss}, Validation Loss: {v_loss}\")\n",
    "\n",
    "        if v_loss < best_loss:\n",
    "            best_loss = v_loss\n",
    "            torch.save(model.state_dict(), model_path)\n",
    "\n",
    "        print(f\"Best Validation Loss: {best_loss}\")\n",
    "\n",
    "    # Plotting\n",
    "    plt.figure(figsize=(10, 5))\n",
    "    plt.plot(epoch_train_losses, label='Training Loss')\n",
    "    plt.plot(epoch_valid_losses, label='Validation Loss')\n",
    "    plt.xlabel('Epochs')\n",
    "    plt.ylabel('Loss')\n",
    "    plt.title('Training and Validation Loss per Epoch')\n",
    "    plt.legend()\n",
    "    plt.show()"
   ]
  },
  {
   "cell_type": "markdown",
   "id": "74f44e9e",
   "metadata": {},
   "source": [
    "### Function to test the model"
   ]
  },
  {
   "cell_type": "code",
   "execution_count": 375,
   "id": "478547c9",
   "metadata": {},
   "outputs": [],
   "source": [
    "from sklearn.metrics import f1_score\n",
    "\n",
    "def test(test_loader, model, criterion, device, num_classes):\n",
    "    model.eval()\n",
    "    test_loss = []\n",
    "    true_labels = []\n",
    "    predicted_labels = []\n",
    "\n",
    "    # Initialize arrays to store precision, recall, and F1 score for each class\n",
    "    precision_per_class = []\n",
    "    recall_per_class = []\n",
    "    f1_per_class = []\n",
    "\n",
    "    for batch_labels, batch_data in tqdm(test_loader):\n",
    "        # Move data to device\n",
    "        batch_labels = batch_labels.to(device)\n",
    "        batch_data = batch_data.to(device)\n",
    "        # Forward pass\n",
    "        batch_output = model(batch_data)\n",
    "        batch_output = torch.squeeze(batch_output)\n",
    "        # Calculate loss\n",
    "        loss = criterion(batch_output, batch_labels)\n",
    "        test_loss.append(loss.item())\n",
    "        batch_preds = torch.argmax(batch_output, axis=1)\n",
    "        # Move predictions to CPU\n",
    "        if torch.cuda.is_available():\n",
    "            batch_labels = batch_labels.cpu()\n",
    "            batch_preds = batch_preds.cpu()\n",
    "        # Collect true and predicted labels\n",
    "        true_labels.extend(batch_labels.detach().numpy())\n",
    "        predicted_labels.extend(batch_preds.detach().numpy())\n",
    "\n",
    "    test_loss = np.mean(test_loss)\n",
    "    print(f\"Test Loss: {test_loss}\")\n",
    "\n",
    "    # Calculate confusion matrix\n",
    "    conf_matrix = confusion_matrix(true_labels, predicted_labels)\n",
    "    print(\"Confusion Matrix:\")\n",
    "    print(conf_matrix)\n",
    "\n",
    "    # Calculate precision, recall, and F1 score for each class\n",
    "    for i in range(num_classes):\n",
    "        precision = precision_score(true_labels, predicted_labels, labels=[i], average='micro')\n",
    "        recall = recall_score(true_labels, predicted_labels, labels=[i], average='micro')\n",
    "        f1 = f1_score(true_labels, predicted_labels, labels=[i], average='micro')\n",
    "        precision_per_class.append(precision)\n",
    "        recall_per_class.append(recall)\n",
    "        \n",
    "        f1_per_class.append(f1)\n",
    "\n",
    "    print(\"Precision per class:\", precision_per_class)\n",
    "    print(\"Recall per class:\", recall_per_class)\n",
    "    print(\"F1 score per class:\", f1_per_class)"
   ]
  },
  {
   "cell_type": "markdown",
   "id": "edf7491a",
   "metadata": {},
   "source": [
    "## Train attention model\n",
    "---"
   ]
  },
  {
   "cell_type": "markdown",
   "id": "427af5ba",
   "metadata": {},
   "source": [
    "### Load the files"
   ]
  },
  {
   "cell_type": "code",
   "execution_count": 376,
   "id": "61b8243f",
   "metadata": {},
   "outputs": [],
   "source": [
    "tokens = load_file(tokens_path)\n",
    "labels = load_file(labels_path)\n",
    "embeddings = load_file(embeddings_path)\n",
    "label_encoder = load_file(label_encoder_path)\n",
    "num_classes = len(label_encoder.classes_)\n",
    "vocabulary = load_file(vocabulary_path)"
   ]
  },
  {
   "cell_type": "markdown",
   "id": "6f8f649b",
   "metadata": {},
   "source": [
    "### Split dataset into train, validation and test sets"
   ]
  },
  {
   "cell_type": "code",
   "execution_count": 377,
   "id": "2dffc997",
   "metadata": {},
   "outputs": [],
   "source": [
    "X_train, X_test, y_train, y_test = train_test_split(tokens, labels,\n",
    "                                                    test_size=0.2)\n",
    "X_train, X_valid, y_train, y_valid = train_test_split(X_train, \n",
    "                                                    y_train,\n",
    "                                                     test_size=0.25)"
   ]
  },
  {
   "cell_type": "markdown",
   "id": "60360bae",
   "metadata": {},
   "source": [
    "### Create PyTorch datasets"
   ]
  },
  {
   "cell_type": "code",
   "execution_count": 378,
   "id": "c7a16e7b",
   "metadata": {},
   "outputs": [],
   "source": [
    "train_dataset = TextDataset(X_train, embeddings, y_train)\n",
    "valid_dataset = TextDataset(X_valid, embeddings, y_valid)\n",
    "test_dataset = TextDataset(X_test, embeddings, y_test)"
   ]
  },
  {
   "cell_type": "markdown",
   "id": "4d0bf9d1",
   "metadata": {},
   "source": [
    "### Create data loaders"
   ]
  },
  {
   "cell_type": "code",
   "execution_count": 379,
   "id": "441887c5",
   "metadata": {},
   "outputs": [],
   "source": [
    "train_loader = torch.utils.data.DataLoader(train_dataset, \n",
    "                                           batch_size=120,\n",
    "                                           shuffle=True, \n",
    "                                           drop_last=True)\n",
    "valid_loader = torch.utils.data.DataLoader(valid_dataset, \n",
    "                                           batch_size=120)\n",
    "test_loader = torch.utils.data.DataLoader(test_dataset, \n",
    "                                          batch_size=120)"
   ]
  },
  {
   "cell_type": "code",
   "execution_count": 381,
   "id": "7d04341c",
   "metadata": {},
   "outputs": [
    {
     "name": "stdout",
     "output_type": "stream",
     "text": [
      "Order of classes: ['sadness' 'anger' 'love' 'surprise' 'fear' 'joy']\n"
     ]
    }
   ],
   "source": [
    "# Order for the confusion matrix\n",
    "class_order = data['Emotion'].unique()\n",
    "print(\"Order of classes:\", class_order)"
   ]
  },
  {
   "cell_type": "markdown",
   "id": "4a8ccc56",
   "metadata": {},
   "source": [
    "### Create model object"
   ]
  },
  {
   "cell_type": "code",
   "execution_count": 382,
   "id": "382e8238",
   "metadata": {},
   "outputs": [],
   "source": [
    "device = torch.device(\"cuda:0\" if torch.cuda.is_available() \n",
    "                      else \"cpu\")"
   ]
  },
  {
   "cell_type": "code",
   "execution_count": 383,
   "id": "139fb095",
   "metadata": {},
   "outputs": [],
   "source": [
    "model = AttentionModel(vec_len, seq_len, num_classes)"
   ]
  },
  {
   "cell_type": "markdown",
   "id": "f6ababfd",
   "metadata": {},
   "source": [
    "### Visualize model architecture"
   ]
  },
  {
   "cell_type": "code",
   "execution_count": 384,
   "id": "460b004c",
   "metadata": {},
   "outputs": [
    {
     "name": "stdout",
     "output_type": "stream",
     "text": [
      "AttentionModel(\n",
      "  (activation): ReLU()\n",
      "  (softmax): Softmax(dim=1)\n",
      "  (dropout): Dropout(p=0.5, inplace=False)\n",
      "  (norm1): LayerNorm((51,), eps=1e-05, elementwise_affine=True)\n",
      "  (linear1): Linear(in_features=51, out_features=5000, bias=True)\n",
      "  (norm2): LayerNorm((5000,), eps=1e-05, elementwise_affine=True)\n",
      "  (linear2): Linear(in_features=5000, out_features=2000, bias=True)\n",
      "  (norm3): LayerNorm((2000,), eps=1e-05, elementwise_affine=True)\n",
      "  (linear3): Linear(in_features=2000, out_features=1000, bias=True)\n",
      "  (norm4): LayerNorm((1000,), eps=1e-05, elementwise_affine=True)\n",
      "  (linear4): Linear(in_features=1000, out_features=6, bias=True)\n",
      ")\n"
     ]
    }
   ],
   "source": [
    "print(model)"
   ]
  },
  {
   "cell_type": "code",
   "execution_count": 385,
   "id": "a715260c",
   "metadata": {},
   "outputs": [
    {
     "name": "stdout",
     "output_type": "stream",
     "text": [
      "----------------------------------------------------------------\n",
      "        Layer (type)               Output Shape         Param #\n",
      "================================================================\n",
      "              ReLU-1                [-1, 20, 1]               0\n",
      "           Softmax-2                [-1, 20, 1]               0\n",
      "         LayerNorm-3                   [-1, 51]             102\n",
      "           Dropout-4                   [-1, 51]               0\n",
      "            Linear-5                 [-1, 5000]         260,000\n",
      "              ReLU-6                 [-1, 5000]               0\n",
      "         LayerNorm-7                 [-1, 5000]          10,000\n",
      "           Dropout-8                 [-1, 5000]               0\n",
      "            Linear-9                 [-1, 2000]      10,002,000\n",
      "             ReLU-10                 [-1, 2000]               0\n",
      "        LayerNorm-11                 [-1, 2000]           4,000\n",
      "          Dropout-12                 [-1, 2000]               0\n",
      "           Linear-13                 [-1, 1000]       2,001,000\n",
      "             ReLU-14                 [-1, 1000]               0\n",
      "        LayerNorm-15                 [-1, 1000]           2,000\n",
      "           Linear-16                    [-1, 6]           6,006\n",
      "================================================================\n",
      "Total params: 12,285,108\n",
      "Trainable params: 12,285,108\n",
      "Non-trainable params: 0\n",
      "----------------------------------------------------------------\n",
      "Input size (MB): 0.00\n",
      "Forward/backward pass size (MB): 0.24\n",
      "Params size (MB): 46.86\n",
      "Estimated Total Size (MB): 47.11\n",
      "----------------------------------------------------------------\n"
     ]
    }
   ],
   "source": [
    "summary(model, input_size=(seq_len, vec_len + 1))"
   ]
  },
  {
   "cell_type": "markdown",
   "id": "0d9f05f0",
   "metadata": {},
   "source": [
    "### Define loss function and optimizer"
   ]
  },
  {
   "cell_type": "code",
   "execution_count": 386,
   "id": "efde74fd",
   "metadata": {},
   "outputs": [],
   "source": [
    "criterion = torch.nn.CrossEntropyLoss()\n",
    "optimizer = torch.optim.Adam(model.parameters(), lr=lr)"
   ]
  },
  {
   "cell_type": "markdown",
   "id": "df4b962b",
   "metadata": {},
   "source": [
    "### Model training"
   ]
  },
  {
   "cell_type": "code",
   "execution_count": 387,
   "id": "2e39dcbb",
   "metadata": {},
   "outputs": [
    {
     "name": "stdout",
     "output_type": "stream",
     "text": [
      "Epoch 1 of 60\n"
     ]
    },
    {
     "name": "stderr",
     "output_type": "stream",
     "text": [
      "100%|█████████████████████████████████████████| 100/100 [00:11<00:00,  8.42it/s]\n",
      "100%|███████████████████████████████████████████| 34/34 [00:01<00:00, 29.87it/s]\n"
     ]
    },
    {
     "name": "stdout",
     "output_type": "stream",
     "text": [
      "Train Loss: 1.7703236281871795, Validation Loss: 1.6110096047906315\n",
      "Best Validation Loss: 1.6110096047906315\n",
      "Epoch 2 of 60\n"
     ]
    },
    {
     "name": "stderr",
     "output_type": "stream",
     "text": [
      "100%|█████████████████████████████████████████| 100/100 [00:13<00:00,  7.60it/s]\n",
      "100%|███████████████████████████████████████████| 34/34 [00:00<00:00, 37.04it/s]\n"
     ]
    },
    {
     "name": "stdout",
     "output_type": "stream",
     "text": [
      "Train Loss: 1.58642142534256, Validation Loss: 1.6116672193302828\n",
      "Best Validation Loss: 1.6110096047906315\n",
      "Epoch 3 of 60\n"
     ]
    },
    {
     "name": "stderr",
     "output_type": "stream",
     "text": [
      "100%|█████████████████████████████████████████| 100/100 [00:10<00:00,  9.60it/s]\n",
      "100%|███████████████████████████████████████████| 34/34 [00:00<00:00, 38.85it/s]\n"
     ]
    },
    {
     "name": "stdout",
     "output_type": "stream",
     "text": [
      "Train Loss: 1.520735765695572, Validation Loss: 1.3816739916801453\n",
      "Best Validation Loss: 1.3816739916801453\n",
      "Epoch 4 of 60\n"
     ]
    },
    {
     "name": "stderr",
     "output_type": "stream",
     "text": [
      "100%|█████████████████████████████████████████| 100/100 [00:10<00:00,  9.40it/s]\n",
      "100%|███████████████████████████████████████████| 34/34 [00:00<00:00, 37.84it/s]\n"
     ]
    },
    {
     "name": "stdout",
     "output_type": "stream",
     "text": [
      "Train Loss: 1.408519617319107, Validation Loss: 1.2448090244742\n",
      "Best Validation Loss: 1.2448090244742\n",
      "Epoch 5 of 60\n"
     ]
    },
    {
     "name": "stderr",
     "output_type": "stream",
     "text": [
      "100%|█████████████████████████████████████████| 100/100 [00:09<00:00, 10.02it/s]\n",
      "100%|███████████████████████████████████████████| 34/34 [00:00<00:00, 38.92it/s]\n"
     ]
    },
    {
     "name": "stdout",
     "output_type": "stream",
     "text": [
      "Train Loss: 1.3258595013618468, Validation Loss: 1.1648795797544367\n",
      "Best Validation Loss: 1.1648795797544367\n",
      "Epoch 6 of 60\n"
     ]
    },
    {
     "name": "stderr",
     "output_type": "stream",
     "text": [
      "100%|█████████████████████████████████████████| 100/100 [00:09<00:00, 10.53it/s]\n",
      "100%|███████████████████████████████████████████| 34/34 [00:00<00:00, 38.34it/s]\n"
     ]
    },
    {
     "name": "stdout",
     "output_type": "stream",
     "text": [
      "Train Loss: 1.2800507199764253, Validation Loss: 1.0866111832506515\n",
      "Best Validation Loss: 1.0866111832506515\n",
      "Epoch 7 of 60\n"
     ]
    },
    {
     "name": "stderr",
     "output_type": "stream",
     "text": [
      "100%|█████████████████████████████████████████| 100/100 [00:09<00:00, 10.49it/s]\n",
      "100%|███████████████████████████████████████████| 34/34 [00:00<00:00, 38.02it/s]\n"
     ]
    },
    {
     "name": "stdout",
     "output_type": "stream",
     "text": [
      "Train Loss: 1.2311818051338195, Validation Loss: 1.0133085741716272\n",
      "Best Validation Loss: 1.0133085741716272\n",
      "Epoch 8 of 60\n"
     ]
    },
    {
     "name": "stderr",
     "output_type": "stream",
     "text": [
      "100%|█████████████████████████████████████████| 100/100 [00:09<00:00, 10.12it/s]\n",
      "100%|███████████████████████████████████████████| 34/34 [00:00<00:00, 36.85it/s]\n"
     ]
    },
    {
     "name": "stdout",
     "output_type": "stream",
     "text": [
      "Train Loss: 1.1893534857034682, Validation Loss: 0.9641651388476876\n",
      "Best Validation Loss: 0.9641651388476876\n",
      "Epoch 9 of 60\n"
     ]
    },
    {
     "name": "stderr",
     "output_type": "stream",
     "text": [
      "100%|█████████████████████████████████████████| 100/100 [00:09<00:00, 10.48it/s]\n",
      "100%|███████████████████████████████████████████| 34/34 [00:00<00:00, 37.99it/s]\n"
     ]
    },
    {
     "name": "stdout",
     "output_type": "stream",
     "text": [
      "Train Loss: 1.1401214200258254, Validation Loss: 0.9203002908650566\n",
      "Best Validation Loss: 0.9203002908650566\n",
      "Epoch 10 of 60\n"
     ]
    },
    {
     "name": "stderr",
     "output_type": "stream",
     "text": [
      "100%|█████████████████████████████████████████| 100/100 [00:10<00:00,  9.60it/s]\n",
      "100%|███████████████████████████████████████████| 34/34 [00:00<00:00, 38.26it/s]\n"
     ]
    },
    {
     "name": "stdout",
     "output_type": "stream",
     "text": [
      "Train Loss: 1.1083918803930282, Validation Loss: 0.8970195949077606\n",
      "Best Validation Loss: 0.8970195949077606\n",
      "Epoch 11 of 60\n"
     ]
    },
    {
     "name": "stderr",
     "output_type": "stream",
     "text": [
      "100%|█████████████████████████████████████████| 100/100 [00:09<00:00, 10.41it/s]\n",
      "100%|███████████████████████████████████████████| 34/34 [00:00<00:00, 38.04it/s]\n"
     ]
    },
    {
     "name": "stdout",
     "output_type": "stream",
     "text": [
      "Train Loss: 1.0795103776454926, Validation Loss: 0.8654395026319167\n",
      "Best Validation Loss: 0.8654395026319167\n",
      "Epoch 12 of 60\n"
     ]
    },
    {
     "name": "stderr",
     "output_type": "stream",
     "text": [
      "100%|█████████████████████████████████████████| 100/100 [00:09<00:00, 10.54it/s]\n",
      "100%|███████████████████████████████████████████| 34/34 [00:00<00:00, 38.22it/s]\n"
     ]
    },
    {
     "name": "stdout",
     "output_type": "stream",
     "text": [
      "Train Loss: 1.0497389340400696, Validation Loss: 0.8297164036947138\n",
      "Best Validation Loss: 0.8297164036947138\n",
      "Epoch 13 of 60\n"
     ]
    },
    {
     "name": "stderr",
     "output_type": "stream",
     "text": [
      "100%|█████████████████████████████████████████| 100/100 [00:10<00:00,  9.63it/s]\n",
      "100%|███████████████████████████████████████████| 34/34 [00:00<00:00, 36.26it/s]\n"
     ]
    },
    {
     "name": "stdout",
     "output_type": "stream",
     "text": [
      "Train Loss: 1.0197838002443314, Validation Loss: 0.8091002948143903\n",
      "Best Validation Loss: 0.8091002948143903\n",
      "Epoch 14 of 60\n"
     ]
    },
    {
     "name": "stderr",
     "output_type": "stream",
     "text": [
      "100%|█████████████████████████████████████████| 100/100 [00:09<00:00, 10.55it/s]\n",
      "100%|███████████████████████████████████████████| 34/34 [00:00<00:00, 36.68it/s]\n"
     ]
    },
    {
     "name": "stdout",
     "output_type": "stream",
     "text": [
      "Train Loss: 0.9922838062047958, Validation Loss: 0.7838748535689186\n",
      "Best Validation Loss: 0.7838748535689186\n",
      "Epoch 15 of 60\n"
     ]
    },
    {
     "name": "stderr",
     "output_type": "stream",
     "text": [
      "100%|█████████████████████████████████████████| 100/100 [00:10<00:00,  9.85it/s]\n",
      "100%|███████████████████████████████████████████| 34/34 [00:01<00:00, 31.94it/s]\n"
     ]
    },
    {
     "name": "stdout",
     "output_type": "stream",
     "text": [
      "Train Loss: 0.9684282273054123, Validation Loss: 0.7642671676243052\n",
      "Best Validation Loss: 0.7642671676243052\n",
      "Epoch 16 of 60\n"
     ]
    },
    {
     "name": "stderr",
     "output_type": "stream",
     "text": [
      "100%|█████████████████████████████████████████| 100/100 [00:09<00:00, 10.36it/s]\n",
      "100%|███████████████████████████████████████████| 34/34 [00:00<00:00, 38.49it/s]\n"
     ]
    },
    {
     "name": "stdout",
     "output_type": "stream",
     "text": [
      "Train Loss: 0.9637169992923736, Validation Loss: 0.7665708941571853\n",
      "Best Validation Loss: 0.7642671676243052\n",
      "Epoch 17 of 60\n"
     ]
    },
    {
     "name": "stderr",
     "output_type": "stream",
     "text": [
      "100%|█████████████████████████████████████████| 100/100 [00:09<00:00, 10.60it/s]\n",
      "100%|███████████████████████████████████████████| 34/34 [00:00<00:00, 38.88it/s]\n"
     ]
    },
    {
     "name": "stdout",
     "output_type": "stream",
     "text": [
      "Train Loss: 0.9361754620075226, Validation Loss: 0.7398342455134672\n",
      "Best Validation Loss: 0.7398342455134672\n",
      "Epoch 18 of 60\n"
     ]
    },
    {
     "name": "stderr",
     "output_type": "stream",
     "text": [
      "100%|█████████████████████████████████████████| 100/100 [00:10<00:00,  9.92it/s]\n",
      "100%|███████████████████████████████████████████| 34/34 [00:00<00:00, 36.73it/s]\n"
     ]
    },
    {
     "name": "stdout",
     "output_type": "stream",
     "text": [
      "Train Loss: 0.9193788152933121, Validation Loss: 0.7363291417851168\n",
      "Best Validation Loss: 0.7363291417851168\n",
      "Epoch 19 of 60\n"
     ]
    },
    {
     "name": "stderr",
     "output_type": "stream",
     "text": [
      "100%|█████████████████████████████████████████| 100/100 [00:09<00:00, 10.07it/s]\n",
      "100%|███████████████████████████████████████████| 34/34 [00:00<00:00, 38.11it/s]\n"
     ]
    },
    {
     "name": "stdout",
     "output_type": "stream",
     "text": [
      "Train Loss: 0.9108257550001144, Validation Loss: 0.7257392441525179\n",
      "Best Validation Loss: 0.7257392441525179\n",
      "Epoch 20 of 60\n"
     ]
    },
    {
     "name": "stderr",
     "output_type": "stream",
     "text": [
      "100%|█████████████████████████████████████████| 100/100 [00:11<00:00,  8.81it/s]\n",
      "100%|███████████████████████████████████████████| 34/34 [00:01<00:00, 25.71it/s]\n"
     ]
    },
    {
     "name": "stdout",
     "output_type": "stream",
     "text": [
      "Train Loss: 0.9052145737409591, Validation Loss: 0.7215795429313884\n",
      "Best Validation Loss: 0.7215795429313884\n",
      "Epoch 21 of 60\n"
     ]
    },
    {
     "name": "stderr",
     "output_type": "stream",
     "text": [
      "100%|█████████████████████████████████████████| 100/100 [00:10<00:00,  9.21it/s]\n",
      "100%|███████████████████████████████████████████| 34/34 [00:00<00:00, 37.50it/s]\n"
     ]
    },
    {
     "name": "stdout",
     "output_type": "stream",
     "text": [
      "Train Loss: 0.8797384113073349, Validation Loss: 0.7140333284350002\n",
      "Best Validation Loss: 0.7140333284350002\n",
      "Epoch 22 of 60\n"
     ]
    },
    {
     "name": "stderr",
     "output_type": "stream",
     "text": [
      "100%|█████████████████████████████████████████| 100/100 [00:09<00:00, 10.31it/s]\n",
      "100%|███████████████████████████████████████████| 34/34 [00:00<00:00, 39.12it/s]\n"
     ]
    },
    {
     "name": "stdout",
     "output_type": "stream",
     "text": [
      "Train Loss: 0.8700423723459244, Validation Loss: 0.7177161898683099\n",
      "Best Validation Loss: 0.7140333284350002\n",
      "Epoch 23 of 60\n"
     ]
    },
    {
     "name": "stderr",
     "output_type": "stream",
     "text": [
      "100%|█████████████████████████████████████████| 100/100 [00:09<00:00, 10.46it/s]\n",
      "100%|███████████████████████████████████████████| 34/34 [00:00<00:00, 38.15it/s]\n"
     ]
    },
    {
     "name": "stdout",
     "output_type": "stream",
     "text": [
      "Train Loss: 0.8642819440364837, Validation Loss: 0.7085321510539335\n",
      "Best Validation Loss: 0.7085321510539335\n",
      "Epoch 24 of 60\n"
     ]
    },
    {
     "name": "stderr",
     "output_type": "stream",
     "text": [
      "100%|█████████████████████████████████████████| 100/100 [00:11<00:00,  8.95it/s]\n",
      "100%|███████████████████████████████████████████| 34/34 [00:00<00:00, 38.33it/s]\n"
     ]
    },
    {
     "name": "stdout",
     "output_type": "stream",
     "text": [
      "Train Loss: 0.8532026952505112, Validation Loss: 0.7044088384684395\n",
      "Best Validation Loss: 0.7044088384684395\n",
      "Epoch 25 of 60\n"
     ]
    },
    {
     "name": "stderr",
     "output_type": "stream",
     "text": [
      "100%|█████████████████████████████████████████| 100/100 [00:09<00:00, 10.18it/s]\n",
      "100%|███████████████████████████████████████████| 34/34 [00:00<00:00, 38.42it/s]\n"
     ]
    },
    {
     "name": "stdout",
     "output_type": "stream",
     "text": [
      "Train Loss: 0.8463479554653168, Validation Loss: 0.7092986808103674\n",
      "Best Validation Loss: 0.7044088384684395\n",
      "Epoch 26 of 60\n"
     ]
    },
    {
     "name": "stderr",
     "output_type": "stream",
     "text": [
      "100%|█████████████████████████████████████████| 100/100 [00:10<00:00,  9.86it/s]\n",
      "100%|███████████████████████████████████████████| 34/34 [00:00<00:00, 37.77it/s]\n"
     ]
    },
    {
     "name": "stdout",
     "output_type": "stream",
     "text": [
      "Train Loss: 0.8458779501914978, Validation Loss: 0.6987218725330689\n",
      "Best Validation Loss: 0.6987218725330689\n",
      "Epoch 27 of 60\n"
     ]
    },
    {
     "name": "stderr",
     "output_type": "stream",
     "text": [
      "100%|█████████████████████████████████████████| 100/100 [00:09<00:00, 10.38it/s]\n",
      "100%|███████████████████████████████████████████| 34/34 [00:00<00:00, 38.39it/s]\n"
     ]
    },
    {
     "name": "stdout",
     "output_type": "stream",
     "text": [
      "Train Loss: 0.8274495643377304, Validation Loss: 0.7077029925935409\n",
      "Best Validation Loss: 0.6987218725330689\n",
      "Epoch 28 of 60\n"
     ]
    },
    {
     "name": "stderr",
     "output_type": "stream",
     "text": [
      "100%|█████████████████████████████████████████| 100/100 [00:11<00:00,  8.62it/s]\n",
      "100%|███████████████████████████████████████████| 34/34 [00:00<00:00, 37.81it/s]\n"
     ]
    },
    {
     "name": "stdout",
     "output_type": "stream",
     "text": [
      "Train Loss: 0.8277052801847458, Validation Loss: 0.7011381045860403\n",
      "Best Validation Loss: 0.6987218725330689\n",
      "Epoch 29 of 60\n"
     ]
    },
    {
     "name": "stderr",
     "output_type": "stream",
     "text": [
      "100%|█████████████████████████████████████████| 100/100 [00:11<00:00,  8.91it/s]\n",
      "100%|███████████████████████████████████████████| 34/34 [00:00<00:00, 38.21it/s]\n"
     ]
    },
    {
     "name": "stdout",
     "output_type": "stream",
     "text": [
      "Train Loss: 0.8326888924837113, Validation Loss: 0.6978960808585671\n",
      "Best Validation Loss: 0.6978960808585671\n",
      "Epoch 30 of 60\n"
     ]
    },
    {
     "name": "stderr",
     "output_type": "stream",
     "text": [
      "100%|█████████████████████████████████████████| 100/100 [00:09<00:00, 10.52it/s]\n",
      "100%|███████████████████████████████████████████| 34/34 [00:00<00:00, 37.65it/s]\n"
     ]
    },
    {
     "name": "stdout",
     "output_type": "stream",
     "text": [
      "Train Loss: 0.8190461724996567, Validation Loss: 0.6907184991766425\n",
      "Best Validation Loss: 0.6907184991766425\n",
      "Epoch 31 of 60\n"
     ]
    },
    {
     "name": "stderr",
     "output_type": "stream",
     "text": [
      "100%|█████████████████████████████████████████| 100/100 [00:09<00:00, 10.27it/s]\n",
      "100%|███████████████████████████████████████████| 34/34 [00:00<00:00, 38.39it/s]\n"
     ]
    },
    {
     "name": "stdout",
     "output_type": "stream",
     "text": [
      "Train Loss: 0.810019770860672, Validation Loss: 0.6979163630920298\n",
      "Best Validation Loss: 0.6907184991766425\n",
      "Epoch 32 of 60\n"
     ]
    },
    {
     "name": "stderr",
     "output_type": "stream",
     "text": [
      "100%|█████████████████████████████████████████| 100/100 [00:09<00:00, 10.55it/s]\n",
      "100%|███████████████████████████████████████████| 34/34 [00:00<00:00, 39.13it/s]\n"
     ]
    },
    {
     "name": "stdout",
     "output_type": "stream",
     "text": [
      "Train Loss: 0.8118687158823014, Validation Loss: 0.6937922081526589\n",
      "Best Validation Loss: 0.6907184991766425\n",
      "Epoch 33 of 60\n"
     ]
    },
    {
     "name": "stderr",
     "output_type": "stream",
     "text": [
      "100%|█████████████████████████████████████████| 100/100 [00:09<00:00, 10.39it/s]\n",
      "100%|███████████████████████████████████████████| 34/34 [00:00<00:00, 37.05it/s]\n"
     ]
    },
    {
     "name": "stdout",
     "output_type": "stream",
     "text": [
      "Train Loss: 0.7985950338840485, Validation Loss: 0.6839581175762064\n",
      "Best Validation Loss: 0.6839581175762064\n",
      "Epoch 34 of 60\n"
     ]
    },
    {
     "name": "stderr",
     "output_type": "stream",
     "text": [
      "100%|█████████████████████████████████████████| 100/100 [00:10<00:00,  9.94it/s]\n",
      "100%|███████████████████████████████████████████| 34/34 [00:00<00:00, 38.35it/s]\n"
     ]
    },
    {
     "name": "stdout",
     "output_type": "stream",
     "text": [
      "Train Loss: 0.7944503021240235, Validation Loss: 0.6887732139405083\n",
      "Best Validation Loss: 0.6839581175762064\n",
      "Epoch 35 of 60\n"
     ]
    },
    {
     "name": "stderr",
     "output_type": "stream",
     "text": [
      "100%|█████████████████████████████████████████| 100/100 [00:09<00:00, 10.20it/s]\n",
      "100%|███████████████████████████████████████████| 34/34 [00:00<00:00, 37.97it/s]\n"
     ]
    },
    {
     "name": "stdout",
     "output_type": "stream",
     "text": [
      "Train Loss: 0.7959165060520172, Validation Loss: 0.6863973552689833\n",
      "Best Validation Loss: 0.6839581175762064\n",
      "Epoch 36 of 60\n"
     ]
    },
    {
     "name": "stderr",
     "output_type": "stream",
     "text": [
      "100%|█████████████████████████████████████████| 100/100 [00:09<00:00, 10.23it/s]\n",
      "100%|███████████████████████████████████████████| 34/34 [00:00<00:00, 35.11it/s]\n"
     ]
    },
    {
     "name": "stdout",
     "output_type": "stream",
     "text": [
      "Train Loss: 0.7901779663562775, Validation Loss: 0.6848247384323793\n",
      "Best Validation Loss: 0.6839581175762064\n",
      "Epoch 37 of 60\n"
     ]
    },
    {
     "name": "stderr",
     "output_type": "stream",
     "text": [
      "100%|█████████████████████████████████████████| 100/100 [00:09<00:00, 10.04it/s]\n",
      "100%|███████████████████████████████████████████| 34/34 [00:00<00:00, 38.52it/s]\n"
     ]
    },
    {
     "name": "stdout",
     "output_type": "stream",
     "text": [
      "Train Loss: 0.7807175356149674, Validation Loss: 0.6804558047476936\n",
      "Best Validation Loss: 0.6804558047476936\n",
      "Epoch 38 of 60\n"
     ]
    },
    {
     "name": "stderr",
     "output_type": "stream",
     "text": [
      "100%|█████████████████████████████████████████| 100/100 [00:09<00:00, 10.71it/s]\n",
      "100%|███████████████████████████████████████████| 34/34 [00:00<00:00, 39.87it/s]\n"
     ]
    },
    {
     "name": "stdout",
     "output_type": "stream",
     "text": [
      "Train Loss: 0.7743509435653686, Validation Loss: 0.6880396902561188\n",
      "Best Validation Loss: 0.6804558047476936\n",
      "Epoch 39 of 60\n"
     ]
    },
    {
     "name": "stderr",
     "output_type": "stream",
     "text": [
      "100%|█████████████████████████████████████████| 100/100 [00:09<00:00, 10.51it/s]\n",
      "100%|███████████████████████████████████████████| 34/34 [00:00<00:00, 37.79it/s]\n"
     ]
    },
    {
     "name": "stdout",
     "output_type": "stream",
     "text": [
      "Train Loss: 0.7702028250694275, Validation Loss: 0.6924555520800983\n",
      "Best Validation Loss: 0.6804558047476936\n",
      "Epoch 40 of 60\n"
     ]
    },
    {
     "name": "stderr",
     "output_type": "stream",
     "text": [
      "100%|█████████████████████████████████████████| 100/100 [00:09<00:00, 10.71it/s]\n",
      "100%|███████████████████████████████████████████| 34/34 [00:00<00:00, 39.02it/s]\n"
     ]
    },
    {
     "name": "stdout",
     "output_type": "stream",
     "text": [
      "Train Loss: 0.773379727602005, Validation Loss: 0.6874659885378445\n",
      "Best Validation Loss: 0.6804558047476936\n",
      "Epoch 41 of 60\n"
     ]
    },
    {
     "name": "stderr",
     "output_type": "stream",
     "text": [
      "100%|█████████████████████████████████████████| 100/100 [00:09<00:00, 10.66it/s]\n",
      "100%|███████████████████████████████████████████| 34/34 [00:00<00:00, 36.91it/s]\n"
     ]
    },
    {
     "name": "stdout",
     "output_type": "stream",
     "text": [
      "Train Loss: 0.7615460640192032, Validation Loss: 0.6876746793003643\n",
      "Best Validation Loss: 0.6804558047476936\n",
      "Epoch 42 of 60\n"
     ]
    },
    {
     "name": "stderr",
     "output_type": "stream",
     "text": [
      "100%|█████████████████████████████████████████| 100/100 [00:09<00:00, 10.17it/s]\n",
      "100%|███████████████████████████████████████████| 34/34 [00:01<00:00, 30.55it/s]\n"
     ]
    },
    {
     "name": "stdout",
     "output_type": "stream",
     "text": [
      "Train Loss: 0.7675633436441421, Validation Loss: 0.6856809398707222\n",
      "Best Validation Loss: 0.6804558047476936\n",
      "Epoch 43 of 60\n"
     ]
    },
    {
     "name": "stderr",
     "output_type": "stream",
     "text": [
      "100%|█████████████████████████████████████████| 100/100 [00:09<00:00, 10.15it/s]\n",
      "100%|███████████████████████████████████████████| 34/34 [00:00<00:00, 38.53it/s]\n"
     ]
    },
    {
     "name": "stdout",
     "output_type": "stream",
     "text": [
      "Train Loss: 0.7572420185804367, Validation Loss: 0.6861281517673942\n",
      "Best Validation Loss: 0.6804558047476936\n",
      "Epoch 44 of 60\n"
     ]
    },
    {
     "name": "stderr",
     "output_type": "stream",
     "text": [
      "100%|█████████████████████████████████████████| 100/100 [00:09<00:00, 10.40it/s]\n",
      "100%|███████████████████████████████████████████| 34/34 [00:00<00:00, 36.59it/s]\n"
     ]
    },
    {
     "name": "stdout",
     "output_type": "stream",
     "text": [
      "Train Loss: 0.7507788932323456, Validation Loss: 0.6943272317157072\n",
      "Best Validation Loss: 0.6804558047476936\n",
      "Epoch 45 of 60\n"
     ]
    },
    {
     "name": "stderr",
     "output_type": "stream",
     "text": [
      "100%|█████████████████████████████████████████| 100/100 [00:09<00:00, 10.62it/s]\n",
      "100%|███████████████████████████████████████████| 34/34 [00:00<00:00, 38.81it/s]\n"
     ]
    },
    {
     "name": "stdout",
     "output_type": "stream",
     "text": [
      "Train Loss: 0.7574971169233322, Validation Loss: 0.6861082429395002\n",
      "Best Validation Loss: 0.6804558047476936\n",
      "Epoch 46 of 60\n"
     ]
    },
    {
     "name": "stderr",
     "output_type": "stream",
     "text": [
      "100%|█████████████████████████████████████████| 100/100 [00:09<00:00, 10.30it/s]\n",
      "100%|███████████████████████████████████████████| 34/34 [00:00<00:00, 35.95it/s]\n"
     ]
    },
    {
     "name": "stdout",
     "output_type": "stream",
     "text": [
      "Train Loss: 0.7520854413509369, Validation Loss: 0.6882341854712543\n",
      "Best Validation Loss: 0.6804558047476936\n",
      "Epoch 47 of 60\n"
     ]
    },
    {
     "name": "stderr",
     "output_type": "stream",
     "text": [
      "100%|█████████████████████████████████████████| 100/100 [00:09<00:00, 10.29it/s]\n",
      "100%|███████████████████████████████████████████| 34/34 [00:00<00:00, 38.87it/s]\n"
     ]
    },
    {
     "name": "stdout",
     "output_type": "stream",
     "text": [
      "Train Loss: 0.7421592345833778, Validation Loss: 0.6910408042809543\n",
      "Best Validation Loss: 0.6804558047476936\n",
      "Epoch 48 of 60\n"
     ]
    },
    {
     "name": "stderr",
     "output_type": "stream",
     "text": [
      "100%|█████████████████████████████████████████| 100/100 [00:09<00:00, 10.34it/s]\n",
      "100%|███████████████████████████████████████████| 34/34 [00:00<00:00, 38.61it/s]\n"
     ]
    },
    {
     "name": "stdout",
     "output_type": "stream",
     "text": [
      "Train Loss: 0.7427860915660858, Validation Loss: 0.6921016670325223\n",
      "Best Validation Loss: 0.6804558047476936\n",
      "Epoch 49 of 60\n"
     ]
    },
    {
     "name": "stderr",
     "output_type": "stream",
     "text": [
      "100%|█████████████████████████████████████████| 100/100 [00:09<00:00, 10.46it/s]\n",
      "100%|███████████████████████████████████████████| 34/34 [00:00<00:00, 38.57it/s]\n"
     ]
    },
    {
     "name": "stdout",
     "output_type": "stream",
     "text": [
      "Train Loss: 0.7465032327175141, Validation Loss: 0.6860179313841988\n",
      "Best Validation Loss: 0.6804558047476936\n",
      "Epoch 50 of 60\n"
     ]
    },
    {
     "name": "stderr",
     "output_type": "stream",
     "text": [
      "100%|█████████████████████████████████████████| 100/100 [00:09<00:00, 10.21it/s]\n",
      "100%|███████████████████████████████████████████| 34/34 [00:00<00:00, 38.85it/s]\n"
     ]
    },
    {
     "name": "stdout",
     "output_type": "stream",
     "text": [
      "Train Loss: 0.7404080334305764, Validation Loss: 0.6919982731342316\n",
      "Best Validation Loss: 0.6804558047476936\n",
      "Epoch 51 of 60\n"
     ]
    },
    {
     "name": "stderr",
     "output_type": "stream",
     "text": [
      "100%|█████████████████████████████████████████| 100/100 [00:09<00:00, 10.74it/s]\n",
      "100%|███████████████████████████████████████████| 34/34 [00:00<00:00, 37.13it/s]\n"
     ]
    },
    {
     "name": "stdout",
     "output_type": "stream",
     "text": [
      "Train Loss: 0.7438200816512108, Validation Loss: 0.6910068024607265\n",
      "Best Validation Loss: 0.6804558047476936\n",
      "Epoch 52 of 60\n"
     ]
    },
    {
     "name": "stderr",
     "output_type": "stream",
     "text": [
      "100%|█████████████████████████████████████████| 100/100 [00:09<00:00, 10.63it/s]\n",
      "100%|███████████████████████████████████████████| 34/34 [00:00<00:00, 38.15it/s]\n"
     ]
    },
    {
     "name": "stdout",
     "output_type": "stream",
     "text": [
      "Train Loss: 0.7289138662815094, Validation Loss: 0.6867378205060959\n",
      "Best Validation Loss: 0.6804558047476936\n",
      "Epoch 53 of 60\n"
     ]
    },
    {
     "name": "stderr",
     "output_type": "stream",
     "text": [
      "100%|█████████████████████████████████████████| 100/100 [00:09<00:00, 10.39it/s]\n",
      "100%|███████████████████████████████████████████| 34/34 [00:00<00:00, 39.19it/s]\n"
     ]
    },
    {
     "name": "stdout",
     "output_type": "stream",
     "text": [
      "Train Loss: 0.7318774765729904, Validation Loss: 0.6876375368412804\n",
      "Best Validation Loss: 0.6804558047476936\n",
      "Epoch 54 of 60\n"
     ]
    },
    {
     "name": "stderr",
     "output_type": "stream",
     "text": [
      "100%|█████████████████████████████████████████| 100/100 [00:09<00:00, 10.07it/s]\n",
      "100%|███████████████████████████████████████████| 34/34 [00:00<00:00, 37.48it/s]\n"
     ]
    },
    {
     "name": "stdout",
     "output_type": "stream",
     "text": [
      "Train Loss: 0.719557438492775, Validation Loss: 0.6980961140464333\n",
      "Best Validation Loss: 0.6804558047476936\n",
      "Epoch 55 of 60\n"
     ]
    },
    {
     "name": "stderr",
     "output_type": "stream",
     "text": [
      "100%|█████████████████████████████████████████| 100/100 [00:09<00:00, 10.77it/s]\n",
      "100%|███████████████████████████████████████████| 34/34 [00:00<00:00, 38.90it/s]\n"
     ]
    },
    {
     "name": "stdout",
     "output_type": "stream",
     "text": [
      "Train Loss: 0.7360331135988235, Validation Loss: 0.6892375946044922\n",
      "Best Validation Loss: 0.6804558047476936\n",
      "Epoch 56 of 60\n"
     ]
    },
    {
     "name": "stderr",
     "output_type": "stream",
     "text": [
      "100%|█████████████████████████████████████████| 100/100 [00:09<00:00, 10.32it/s]\n",
      "100%|███████████████████████████████████████████| 34/34 [00:00<00:00, 38.51it/s]\n"
     ]
    },
    {
     "name": "stdout",
     "output_type": "stream",
     "text": [
      "Train Loss: 0.7273209047317505, Validation Loss: 0.6860274909173741\n",
      "Best Validation Loss: 0.6804558047476936\n",
      "Epoch 57 of 60\n"
     ]
    },
    {
     "name": "stderr",
     "output_type": "stream",
     "text": [
      "100%|█████████████████████████████████████████| 100/100 [00:09<00:00, 10.18it/s]\n",
      "100%|███████████████████████████████████████████| 34/34 [00:00<00:00, 37.89it/s]\n"
     ]
    },
    {
     "name": "stdout",
     "output_type": "stream",
     "text": [
      "Train Loss: 0.7228785961866379, Validation Loss: 0.6885302189518424\n",
      "Best Validation Loss: 0.6804558047476936\n",
      "Epoch 58 of 60\n"
     ]
    },
    {
     "name": "stderr",
     "output_type": "stream",
     "text": [
      "100%|█████████████████████████████████████████| 100/100 [00:09<00:00, 10.63it/s]\n",
      "100%|███████████████████████████████████████████| 34/34 [00:00<00:00, 39.16it/s]\n"
     ]
    },
    {
     "name": "stdout",
     "output_type": "stream",
     "text": [
      "Train Loss: 0.7189516499638557, Validation Loss: 0.692085779765073\n",
      "Best Validation Loss: 0.6804558047476936\n",
      "Epoch 59 of 60\n"
     ]
    },
    {
     "name": "stderr",
     "output_type": "stream",
     "text": [
      "100%|█████████████████████████████████████████| 100/100 [00:09<00:00, 10.41it/s]\n",
      "100%|███████████████████████████████████████████| 34/34 [00:00<00:00, 39.31it/s]\n"
     ]
    },
    {
     "name": "stdout",
     "output_type": "stream",
     "text": [
      "Train Loss: 0.7190242356061936, Validation Loss: 0.6962648901869269\n",
      "Best Validation Loss: 0.6804558047476936\n",
      "Epoch 60 of 60\n"
     ]
    },
    {
     "name": "stderr",
     "output_type": "stream",
     "text": [
      "100%|█████████████████████████████████████████| 100/100 [00:09<00:00, 10.34it/s]\n",
      "100%|███████████████████████████████████████████| 34/34 [00:00<00:00, 39.03it/s]\n"
     ]
    },
    {
     "name": "stdout",
     "output_type": "stream",
     "text": [
      "Train Loss: 0.7142533671855926, Validation Loss: 0.6921815048245823\n",
      "Best Validation Loss: 0.6804558047476936\n"
     ]
    },
    {
     "data": {
      "image/png": "[encoded data removed]",
      "text/plain": [
       "<Figure size 1000x500 with 1 Axes>"
      ]
     },
     "metadata": {},
     "output_type": "display_data"
    }
   ],
   "source": [
    "train(train_loader, valid_loader, model, criterion, optimizer,\n",
    "      device, num_epochs, model_path)"
   ]
  },
  {
   "cell_type": "markdown",
   "id": "0df17336",
   "metadata": {},
   "source": [
    "### Model testing & Evaluation metrics"
   ]
  },
  {
   "cell_type": "code",
   "execution_count": 388,
   "id": "84d8a85b",
   "metadata": {},
   "outputs": [
    {
     "name": "stderr",
     "output_type": "stream",
     "text": [
      "100%|███████████████████████████████████████████| 34/34 [00:01<00:00, 32.07it/s]\n"
     ]
    },
    {
     "name": "stdout",
     "output_type": "stream",
     "text": [
      "Test Loss: 0.7059355097658494\n",
      "Confusion Matrix:\n",
      "[[ 407   12   67    3   64    0]\n",
      " [  22  333   49    1   43    9]\n",
      " [  31   26 1171   39  106    7]\n",
      " [   6    4  100  197   23    0]\n",
      " [  26    9  203   16  897    5]\n",
      " [   1   21   26    0    7   69]]\n",
      "Precision per class: [0.8255578093306288, 0.8222222222222222, 0.7246287128712872, 0.76953125, 0.7868421052631579, 0.7666666666666667]\n",
      "Recall per class: [0.7359855334538878, 0.7286652078774617, 0.8485507246376811, 0.5969696969696969, 0.7759515570934256, 0.5564516129032258]\n",
      "F1 score per class: [0.7782026768642448, 0.7726218097447797, 0.7817089452603472, 0.6723549488054608, 0.7813588850174216, 0.644859813084112]\n"
     ]
    }
   ],
   "source": [
    "test(test_loader, model, criterion, device, 6)"
   ]
  },
  {
   "cell_type": "markdown",
   "id": "706afa1e",
   "metadata": {},
   "source": [
    "## Predict on new text\n",
    "---"
   ]
  },
  {
   "cell_type": "code",
   "execution_count": 389,
   "id": "bfdfde19",
   "metadata": {},
   "outputs": [],
   "source": [
    "input_text = '''I'm cancelling my 2 Cybertruck reservations because I just got scammed on a Y purchase. 3/3 reps I talked to (and asked repeatedly) said my 2016 autopilot would transfer to FSD in my new Y purchase. Then AFTER I wired the full payment, they re-negged on the deal.  Now ghosting me'''"
   ]
  },
  {
   "cell_type": "markdown",
   "id": "60162b81",
   "metadata": {},
   "source": [
    "### Process input text"
   ]
  },
  {
   "cell_type": "code",
   "execution_count": 390,
   "id": "1ed055d4",
   "metadata": {},
   "outputs": [],
   "source": [
    "input_text = input_text.lower()\n",
    "input_text = re.sub(r\"[^\\w\\d'\\s]+\", \" \", input_text)\n",
    "input_text = re.sub(\"\\d+\", \"\", input_text)\n",
    "input_text = re.sub(r'[x]{2,}', \"\", input_text)\n",
    "input_text = re.sub(' +', ' ', input_text)\n",
    "tokens = word_tokenize(input_text)"
   ]
  },
  {
   "cell_type": "code",
   "execution_count": 391,
   "id": "5d9bbbac",
   "metadata": {},
   "outputs": [],
   "source": [
    "tokens = ['<pad>']*(20-len(tokens))+tokens"
   ]
  },
  {
   "cell_type": "code",
   "execution_count": 392,
   "id": "6a09f30a",
   "metadata": {},
   "outputs": [],
   "source": [
    "idx_token = []\n",
    "for token in tokens:\n",
    "    if token in vocabulary:\n",
    "        idx_token.append(vocabulary.index(token))\n",
    "    else:\n",
    "        idx_token.append(vocabulary.index('<unk>'))"
   ]
  },
  {
   "cell_type": "code",
   "execution_count": 393,
   "id": "e4b5311a",
   "metadata": {},
   "outputs": [],
   "source": [
    "token_emb = embeddings[idx_token,:]\n",
    "token_emb = token_emb[:seq_len, :]\n",
    "input_ind = torch.from_numpy(token_emb)"
   ]
  },
  {
   "cell_type": "code",
   "execution_count": 394,
   "id": "c11529ef",
   "metadata": {},
   "outputs": [],
   "source": [
    "input_ind = torch.cat((torch.ones(input_ind.shape[0],1), input_ind), dim=1)"
   ]
  },
  {
   "cell_type": "code",
   "execution_count": 395,
   "id": "ef2d3967",
   "metadata": {},
   "outputs": [],
   "source": [
    "device = torch.device(\"cuda:0\" if torch.cuda.is_available() \n",
    "                      else \"cpu\")"
   ]
  },
  {
   "cell_type": "code",
   "execution_count": 396,
   "id": "ebf7f692",
   "metadata": {},
   "outputs": [],
   "source": [
    "input_ind = input_ind.to(device)\n",
    "input_ind = torch.unsqueeze(input_ind, 0)"
   ]
  },
  {
   "cell_type": "code",
   "execution_count": 397,
   "id": "d15832ed",
   "metadata": {},
   "outputs": [],
   "source": [
    "label_encoder = load_file(label_encoder_path)\n",
    "num_classes = len(label_encoder.classes_)"
   ]
  },
  {
   "cell_type": "markdown",
   "id": "d83f92d0",
   "metadata": {},
   "source": [
    "### Model prediction"
   ]
  },
  {
   "cell_type": "code",
   "execution_count": 398,
   "id": "9d117148",
   "metadata": {},
   "outputs": [
    {
     "name": "stdout",
     "output_type": "stream",
     "text": [
      "Predicted  Class: joy\n"
     ]
    }
   ],
   "source": [
    "# Create model object\n",
    "model = AttentionModel(vec_len, seq_len, num_classes)\n",
    "\n",
    "# Load trained weights\n",
    "model.load_state_dict(torch.load(model_path))\n",
    "\n",
    "# Move the model to GPU if available\n",
    "if torch.cuda.is_available():\n",
    "    model = model.cuda()\n",
    "    \n",
    "# Forward pass\n",
    "out = torch.squeeze(model(input_ind))\n",
    "\n",
    "# Find predicted class\n",
    "prediction = label_encoder.classes_[torch.argmax(out)]\n",
    "print(f\"Predicted  Class: {prediction}\")"
   ]
  },
  {
   "cell_type": "code",
   "execution_count": null,
   "id": "f6e34b95",
   "metadata": {},
   "outputs": [],
   "source": []
  }
 ],
 "metadata": {
  "kernelspec": {
   "display_name": "base",
   "language": "python",
   "name": "python3"
  },
  "language_info": {
   "codemirror_mode": {
    "name": "ipython",
    "version": 3
   },
   "file_extension": ".py",
   "mimetype": "text/x-python",
   "name": "python",
   "nbconvert_exporter": "python",
   "pygments_lexer": "ipython3",
   "version": "3.9.13"
  },
  "vscode": {
   "interpreter": {
    "hash": "f22e9cb1a429c8919b9b202e5ba94caf3baff74b974a10236b33a73f97d9a5ec"
   }
  }
 },
 "nbformat": 4,
 "nbformat_minor": 5
}
